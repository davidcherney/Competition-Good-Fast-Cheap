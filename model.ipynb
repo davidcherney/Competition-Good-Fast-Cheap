{
 "cells": [
  {
   "cell_type": "code",
   "execution_count": 98,
   "id": "5b499343-80ba-4866-bc26-534e3995b0fa",
   "metadata": {},
   "outputs": [],
   "source": [
    "import numpy as np\n",
    "import pandas as pd\n",
    "import matplotlib.pyplot as plt\n",
    "import seaborn as sns"
   ]
  },
  {
   "cell_type": "code",
   "execution_count": 99,
   "id": "3aba515b",
   "metadata": {},
   "outputs": [
    {
     "data": {
      "text/plain": [
       "(6513, 14)"
      ]
     },
     "execution_count": 99,
     "metadata": {},
     "output_type": "execute_result"
    }
   ],
   "source": [
    "data = pd.read_csv('data/cheap_train_sample.csv')\n",
    "data.shape"
   ]
  },
  {
   "cell_type": "code",
   "execution_count": 100,
   "id": "4c91cb8b",
   "metadata": {},
   "outputs": [
    {
     "data": {
      "text/plain": [
       "(16281, 13)"
      ]
     },
     "execution_count": 100,
     "metadata": {},
     "output_type": "execute_result"
    }
   ],
   "source": [
    "test_data = pd.read_csv('data/test_data.csv')\n",
    "test_data.shape"
   ]
  },
  {
   "cell_type": "markdown",
   "id": "7cfce614-a981-4eba-ae73-48747523daa0",
   "metadata": {},
   "source": [
    "# 1) Pre-process data"
   ]
  },
  {
   "cell_type": "markdown",
   "id": "f8628c02-34c3-4c8c-ba8a-a9d99a6c65e7",
   "metadata": {},
   "source": [
    "Concatenate train and test data so that that two are pre-processed the same way. "
   ]
  },
  {
   "cell_type": "code",
   "execution_count": 101,
   "id": "3977f093",
   "metadata": {},
   "outputs": [],
   "source": [
    "concat_train_test = pd.concat([data,test_data])"
   ]
  },
  {
   "cell_type": "markdown",
   "id": "ddc2fb9f-67ee-4e30-8c23-713d05a8b647",
   "metadata": {},
   "source": [
    "## 1.1) Binarize Target Feature"
   ]
  },
  {
   "cell_type": "code",
   "execution_count": 102,
   "id": "f05f9696-7147-4d85-8c95-24747ec4352e",
   "metadata": {},
   "outputs": [],
   "source": [
    "# the .replace method below does not change the vaues from the test set (NaNs)\n",
    "concat_train_test['wage'] = concat_train_test['wage'].replace({' <=50K':0, ' >50K':1})"
   ]
  },
  {
   "cell_type": "code",
   "execution_count": 103,
   "id": "977b2988-04b8-46ef-b27f-ca25d46e0ff8",
   "metadata": {},
   "outputs": [
    {
     "data": {
      "text/plain": [
       "array([ 0.,  1., nan])"
      ]
     },
     "execution_count": 103,
     "metadata": {},
     "output_type": "execute_result"
    }
   ],
   "source": [
    "concat_train_test['wage'].unique()"
   ]
  },
  {
   "cell_type": "markdown",
   "id": "396559e7",
   "metadata": {},
   "source": [
    "## 1.2) Resolve 'never_worked' with 'hours_per_week'\n",
    "\n",
    "For all rows with `work-class` in  [ 'never worked' ,'without pay'],  set `hours_per_week` to 0.\n"
   ]
  },
  {
   "cell_type": "code",
   "execution_count": 104,
   "id": "67037e02",
   "metadata": {},
   "outputs": [],
   "source": [
    "# create a filter disjunction\n",
    "filter1 = (concat_train_test['workclass']==' Without-pay')\n",
    "filter2 = (concat_train_test['workclass']==' Never-worked'  )\n",
    "filter_disjunction = filter1 | filter2"
   ]
  },
  {
   "cell_type": "code",
   "execution_count": 105,
   "id": "ceab9b4d",
   "metadata": {},
   "outputs": [],
   "source": [
    "concat_train_test.loc[filter_disjunction,['hours-per-week']] = 0"
   ]
  },
  {
   "cell_type": "code",
   "execution_count": 106,
   "id": "a25e3771",
   "metadata": {},
   "outputs": [
    {
     "data": {
      "text/html": [
       "<div>\n",
       "<style scoped>\n",
       "    .dataframe tbody tr th:only-of-type {\n",
       "        vertical-align: middle;\n",
       "    }\n",
       "\n",
       "    .dataframe tbody tr th {\n",
       "        vertical-align: top;\n",
       "    }\n",
       "\n",
       "    .dataframe thead th {\n",
       "        text-align: right;\n",
       "    }\n",
       "</style>\n",
       "<table border=\"1\" class=\"dataframe\">\n",
       "  <thead>\n",
       "    <tr style=\"text-align: right;\">\n",
       "      <th></th>\n",
       "      <th>hours-per-week</th>\n",
       "    </tr>\n",
       "  </thead>\n",
       "  <tbody>\n",
       "    <tr>\n",
       "      <th>2019</th>\n",
       "      <td>0</td>\n",
       "    </tr>\n",
       "    <tr>\n",
       "      <th>4124</th>\n",
       "      <td>0</td>\n",
       "    </tr>\n",
       "    <tr>\n",
       "      <th>4167</th>\n",
       "      <td>0</td>\n",
       "    </tr>\n",
       "    <tr>\n",
       "      <th>5944</th>\n",
       "      <td>0</td>\n",
       "    </tr>\n",
       "    <tr>\n",
       "      <th>2957</th>\n",
       "      <td>0</td>\n",
       "    </tr>\n",
       "    <tr>\n",
       "      <th>3177</th>\n",
       "      <td>0</td>\n",
       "    </tr>\n",
       "    <tr>\n",
       "      <th>6466</th>\n",
       "      <td>0</td>\n",
       "    </tr>\n",
       "    <tr>\n",
       "      <th>8785</th>\n",
       "      <td>0</td>\n",
       "    </tr>\n",
       "    <tr>\n",
       "      <th>8903</th>\n",
       "      <td>0</td>\n",
       "    </tr>\n",
       "    <tr>\n",
       "      <th>10647</th>\n",
       "      <td>0</td>\n",
       "    </tr>\n",
       "    <tr>\n",
       "      <th>11607</th>\n",
       "      <td>0</td>\n",
       "    </tr>\n",
       "    <tr>\n",
       "      <th>13836</th>\n",
       "      <td>0</td>\n",
       "    </tr>\n",
       "    <tr>\n",
       "      <th>13898</th>\n",
       "      <td>0</td>\n",
       "    </tr>\n",
       "    <tr>\n",
       "      <th>14034</th>\n",
       "      <td>0</td>\n",
       "    </tr>\n",
       "  </tbody>\n",
       "</table>\n",
       "</div>"
      ],
      "text/plain": [
       "       hours-per-week\n",
       "2019                0\n",
       "4124                0\n",
       "4167                0\n",
       "5944                0\n",
       "2957                0\n",
       "3177                0\n",
       "6466                0\n",
       "8785                0\n",
       "8903                0\n",
       "10647               0\n",
       "11607               0\n",
       "13836               0\n",
       "13898               0\n",
       "14034               0"
      ]
     },
     "execution_count": 106,
     "metadata": {},
     "output_type": "execute_result"
    }
   ],
   "source": [
    "concat_train_test.loc[filter_disjunction,['hours-per-week']]"
   ]
  },
  {
   "cell_type": "markdown",
   "id": "e9d897cb",
   "metadata": {},
   "source": [
    "## 1.3) Dummy Features"
   ]
  },
  {
   "cell_type": "code",
   "execution_count": 107,
   "id": "f039913d",
   "metadata": {},
   "outputs": [],
   "source": [
    "dumb_feats = ['workclass','marital-status','occupation','sex']\n",
    "concat_train_test = pd.get_dummies(concat_train_test, \n",
    "               columns = dumb_feats, \n",
    "               drop_first=True\n",
    "              )"
   ]
  },
  {
   "cell_type": "code",
   "execution_count": 108,
   "id": "dd7e15ba",
   "metadata": {},
   "outputs": [
    {
     "data": {
      "text/html": [
       "<div>\n",
       "<style scoped>\n",
       "    .dataframe tbody tr th:only-of-type {\n",
       "        vertical-align: middle;\n",
       "    }\n",
       "\n",
       "    .dataframe tbody tr th {\n",
       "        vertical-align: top;\n",
       "    }\n",
       "\n",
       "    .dataframe thead th {\n",
       "        text-align: right;\n",
       "    }\n",
       "</style>\n",
       "<table border=\"1\" class=\"dataframe\">\n",
       "  <thead>\n",
       "    <tr style=\"text-align: right;\">\n",
       "      <th></th>\n",
       "      <th>0</th>\n",
       "      <th>1</th>\n",
       "      <th>2</th>\n",
       "      <th>3</th>\n",
       "      <th>4</th>\n",
       "    </tr>\n",
       "  </thead>\n",
       "  <tbody>\n",
       "    <tr>\n",
       "      <th>age</th>\n",
       "      <td>56</td>\n",
       "      <td>28</td>\n",
       "      <td>33</td>\n",
       "      <td>26</td>\n",
       "      <td>40</td>\n",
       "    </tr>\n",
       "    <tr>\n",
       "      <th>fnlwgt</th>\n",
       "      <td>346033</td>\n",
       "      <td>96226</td>\n",
       "      <td>251120</td>\n",
       "      <td>178140</td>\n",
       "      <td>56795</td>\n",
       "    </tr>\n",
       "    <tr>\n",
       "      <th>education</th>\n",
       "      <td>9th</td>\n",
       "      <td>HS-grad</td>\n",
       "      <td>Bachelors</td>\n",
       "      <td>Bachelors</td>\n",
       "      <td>Masters</td>\n",
       "    </tr>\n",
       "    <tr>\n",
       "      <th>education-num</th>\n",
       "      <td>5</td>\n",
       "      <td>9</td>\n",
       "      <td>13</td>\n",
       "      <td>13</td>\n",
       "      <td>14</td>\n",
       "    </tr>\n",
       "    <tr>\n",
       "      <th>relationship</th>\n",
       "      <td>Not-in-family</td>\n",
       "      <td>Husband</td>\n",
       "      <td>Husband</td>\n",
       "      <td>Husband</td>\n",
       "      <td>Not-in-family</td>\n",
       "    </tr>\n",
       "    <tr>\n",
       "      <th>capital-gain</th>\n",
       "      <td>0</td>\n",
       "      <td>0</td>\n",
       "      <td>7688</td>\n",
       "      <td>0</td>\n",
       "      <td>14084</td>\n",
       "    </tr>\n",
       "    <tr>\n",
       "      <th>capital-loss</th>\n",
       "      <td>0</td>\n",
       "      <td>0</td>\n",
       "      <td>0</td>\n",
       "      <td>0</td>\n",
       "      <td>0</td>\n",
       "    </tr>\n",
       "    <tr>\n",
       "      <th>hours-per-week</th>\n",
       "      <td>40</td>\n",
       "      <td>45</td>\n",
       "      <td>50</td>\n",
       "      <td>45</td>\n",
       "      <td>55</td>\n",
       "    </tr>\n",
       "    <tr>\n",
       "      <th>native-country</th>\n",
       "      <td>United-States</td>\n",
       "      <td>United-States</td>\n",
       "      <td>United-States</td>\n",
       "      <td>United-States</td>\n",
       "      <td>United-States</td>\n",
       "    </tr>\n",
       "    <tr>\n",
       "      <th>wage</th>\n",
       "      <td>0.0</td>\n",
       "      <td>0.0</td>\n",
       "      <td>1.0</td>\n",
       "      <td>1.0</td>\n",
       "      <td>1.0</td>\n",
       "    </tr>\n",
       "    <tr>\n",
       "      <th>workclass_ Federal-gov</th>\n",
       "      <td>0</td>\n",
       "      <td>0</td>\n",
       "      <td>0</td>\n",
       "      <td>0</td>\n",
       "      <td>1</td>\n",
       "    </tr>\n",
       "    <tr>\n",
       "      <th>workclass_ Local-gov</th>\n",
       "      <td>0</td>\n",
       "      <td>0</td>\n",
       "      <td>0</td>\n",
       "      <td>0</td>\n",
       "      <td>0</td>\n",
       "    </tr>\n",
       "    <tr>\n",
       "      <th>workclass_ Never-worked</th>\n",
       "      <td>0</td>\n",
       "      <td>0</td>\n",
       "      <td>0</td>\n",
       "      <td>0</td>\n",
       "      <td>0</td>\n",
       "    </tr>\n",
       "    <tr>\n",
       "      <th>workclass_ Private</th>\n",
       "      <td>1</td>\n",
       "      <td>1</td>\n",
       "      <td>1</td>\n",
       "      <td>1</td>\n",
       "      <td>0</td>\n",
       "    </tr>\n",
       "    <tr>\n",
       "      <th>workclass_ Self-emp-inc</th>\n",
       "      <td>0</td>\n",
       "      <td>0</td>\n",
       "      <td>0</td>\n",
       "      <td>0</td>\n",
       "      <td>0</td>\n",
       "    </tr>\n",
       "    <tr>\n",
       "      <th>workclass_ Self-emp-not-inc</th>\n",
       "      <td>0</td>\n",
       "      <td>0</td>\n",
       "      <td>0</td>\n",
       "      <td>0</td>\n",
       "      <td>0</td>\n",
       "    </tr>\n",
       "    <tr>\n",
       "      <th>workclass_ State-gov</th>\n",
       "      <td>0</td>\n",
       "      <td>0</td>\n",
       "      <td>0</td>\n",
       "      <td>0</td>\n",
       "      <td>0</td>\n",
       "    </tr>\n",
       "    <tr>\n",
       "      <th>workclass_ Without-pay</th>\n",
       "      <td>0</td>\n",
       "      <td>0</td>\n",
       "      <td>0</td>\n",
       "      <td>0</td>\n",
       "      <td>0</td>\n",
       "    </tr>\n",
       "    <tr>\n",
       "      <th>marital-status_ Married-AF-spouse</th>\n",
       "      <td>0</td>\n",
       "      <td>0</td>\n",
       "      <td>0</td>\n",
       "      <td>0</td>\n",
       "      <td>0</td>\n",
       "    </tr>\n",
       "    <tr>\n",
       "      <th>marital-status_ Married-civ-spouse</th>\n",
       "      <td>0</td>\n",
       "      <td>1</td>\n",
       "      <td>1</td>\n",
       "      <td>1</td>\n",
       "      <td>0</td>\n",
       "    </tr>\n",
       "    <tr>\n",
       "      <th>marital-status_ Married-spouse-absent</th>\n",
       "      <td>0</td>\n",
       "      <td>0</td>\n",
       "      <td>0</td>\n",
       "      <td>0</td>\n",
       "      <td>0</td>\n",
       "    </tr>\n",
       "    <tr>\n",
       "      <th>marital-status_ Never-married</th>\n",
       "      <td>0</td>\n",
       "      <td>0</td>\n",
       "      <td>0</td>\n",
       "      <td>0</td>\n",
       "      <td>1</td>\n",
       "    </tr>\n",
       "    <tr>\n",
       "      <th>marital-status_ Separated</th>\n",
       "      <td>0</td>\n",
       "      <td>0</td>\n",
       "      <td>0</td>\n",
       "      <td>0</td>\n",
       "      <td>0</td>\n",
       "    </tr>\n",
       "    <tr>\n",
       "      <th>marital-status_ Widowed</th>\n",
       "      <td>0</td>\n",
       "      <td>0</td>\n",
       "      <td>0</td>\n",
       "      <td>0</td>\n",
       "      <td>0</td>\n",
       "    </tr>\n",
       "    <tr>\n",
       "      <th>occupation_ Adm-clerical</th>\n",
       "      <td>1</td>\n",
       "      <td>0</td>\n",
       "      <td>0</td>\n",
       "      <td>0</td>\n",
       "      <td>0</td>\n",
       "    </tr>\n",
       "    <tr>\n",
       "      <th>occupation_ Armed-Forces</th>\n",
       "      <td>0</td>\n",
       "      <td>0</td>\n",
       "      <td>0</td>\n",
       "      <td>0</td>\n",
       "      <td>0</td>\n",
       "    </tr>\n",
       "    <tr>\n",
       "      <th>occupation_ Craft-repair</th>\n",
       "      <td>0</td>\n",
       "      <td>1</td>\n",
       "      <td>0</td>\n",
       "      <td>0</td>\n",
       "      <td>0</td>\n",
       "    </tr>\n",
       "    <tr>\n",
       "      <th>occupation_ Exec-managerial</th>\n",
       "      <td>0</td>\n",
       "      <td>0</td>\n",
       "      <td>0</td>\n",
       "      <td>0</td>\n",
       "      <td>1</td>\n",
       "    </tr>\n",
       "    <tr>\n",
       "      <th>occupation_ Farming-fishing</th>\n",
       "      <td>0</td>\n",
       "      <td>0</td>\n",
       "      <td>0</td>\n",
       "      <td>0</td>\n",
       "      <td>0</td>\n",
       "    </tr>\n",
       "    <tr>\n",
       "      <th>occupation_ Handlers-cleaners</th>\n",
       "      <td>0</td>\n",
       "      <td>0</td>\n",
       "      <td>0</td>\n",
       "      <td>0</td>\n",
       "      <td>0</td>\n",
       "    </tr>\n",
       "    <tr>\n",
       "      <th>occupation_ Machine-op-inspct</th>\n",
       "      <td>0</td>\n",
       "      <td>0</td>\n",
       "      <td>0</td>\n",
       "      <td>0</td>\n",
       "      <td>0</td>\n",
       "    </tr>\n",
       "    <tr>\n",
       "      <th>occupation_ Other-service</th>\n",
       "      <td>0</td>\n",
       "      <td>0</td>\n",
       "      <td>0</td>\n",
       "      <td>1</td>\n",
       "      <td>0</td>\n",
       "    </tr>\n",
       "    <tr>\n",
       "      <th>occupation_ Priv-house-serv</th>\n",
       "      <td>0</td>\n",
       "      <td>0</td>\n",
       "      <td>0</td>\n",
       "      <td>0</td>\n",
       "      <td>0</td>\n",
       "    </tr>\n",
       "    <tr>\n",
       "      <th>occupation_ Prof-specialty</th>\n",
       "      <td>0</td>\n",
       "      <td>0</td>\n",
       "      <td>0</td>\n",
       "      <td>0</td>\n",
       "      <td>0</td>\n",
       "    </tr>\n",
       "    <tr>\n",
       "      <th>occupation_ Protective-serv</th>\n",
       "      <td>0</td>\n",
       "      <td>0</td>\n",
       "      <td>0</td>\n",
       "      <td>0</td>\n",
       "      <td>0</td>\n",
       "    </tr>\n",
       "    <tr>\n",
       "      <th>occupation_ Sales</th>\n",
       "      <td>0</td>\n",
       "      <td>0</td>\n",
       "      <td>1</td>\n",
       "      <td>0</td>\n",
       "      <td>0</td>\n",
       "    </tr>\n",
       "    <tr>\n",
       "      <th>occupation_ Tech-support</th>\n",
       "      <td>0</td>\n",
       "      <td>0</td>\n",
       "      <td>0</td>\n",
       "      <td>0</td>\n",
       "      <td>0</td>\n",
       "    </tr>\n",
       "    <tr>\n",
       "      <th>occupation_ Transport-moving</th>\n",
       "      <td>0</td>\n",
       "      <td>0</td>\n",
       "      <td>0</td>\n",
       "      <td>0</td>\n",
       "      <td>0</td>\n",
       "    </tr>\n",
       "    <tr>\n",
       "      <th>sex_ Male</th>\n",
       "      <td>1</td>\n",
       "      <td>1</td>\n",
       "      <td>1</td>\n",
       "      <td>1</td>\n",
       "      <td>0</td>\n",
       "    </tr>\n",
       "  </tbody>\n",
       "</table>\n",
       "</div>"
      ],
      "text/plain": [
       "                                                    0               1  \\\n",
       "age                                                56              28   \n",
       "fnlwgt                                         346033           96226   \n",
       "education                                         9th         HS-grad   \n",
       "education-num                                       5               9   \n",
       "relationship                            Not-in-family         Husband   \n",
       "capital-gain                                        0               0   \n",
       "capital-loss                                        0               0   \n",
       "hours-per-week                                     40              45   \n",
       "native-country                          United-States   United-States   \n",
       "wage                                              0.0             0.0   \n",
       "workclass_ Federal-gov                              0               0   \n",
       "workclass_ Local-gov                                0               0   \n",
       "workclass_ Never-worked                             0               0   \n",
       "workclass_ Private                                  1               1   \n",
       "workclass_ Self-emp-inc                             0               0   \n",
       "workclass_ Self-emp-not-inc                         0               0   \n",
       "workclass_ State-gov                                0               0   \n",
       "workclass_ Without-pay                              0               0   \n",
       "marital-status_ Married-AF-spouse                   0               0   \n",
       "marital-status_ Married-civ-spouse                  0               1   \n",
       "marital-status_ Married-spouse-absent               0               0   \n",
       "marital-status_ Never-married                       0               0   \n",
       "marital-status_ Separated                           0               0   \n",
       "marital-status_ Widowed                             0               0   \n",
       "occupation_ Adm-clerical                            1               0   \n",
       "occupation_ Armed-Forces                            0               0   \n",
       "occupation_ Craft-repair                            0               1   \n",
       "occupation_ Exec-managerial                         0               0   \n",
       "occupation_ Farming-fishing                         0               0   \n",
       "occupation_ Handlers-cleaners                       0               0   \n",
       "occupation_ Machine-op-inspct                       0               0   \n",
       "occupation_ Other-service                           0               0   \n",
       "occupation_ Priv-house-serv                         0               0   \n",
       "occupation_ Prof-specialty                          0               0   \n",
       "occupation_ Protective-serv                         0               0   \n",
       "occupation_ Sales                                   0               0   \n",
       "occupation_ Tech-support                            0               0   \n",
       "occupation_ Transport-moving                        0               0   \n",
       "sex_ Male                                           1               1   \n",
       "\n",
       "                                                    2               3  \\\n",
       "age                                                33              26   \n",
       "fnlwgt                                         251120          178140   \n",
       "education                                   Bachelors       Bachelors   \n",
       "education-num                                      13              13   \n",
       "relationship                                  Husband         Husband   \n",
       "capital-gain                                     7688               0   \n",
       "capital-loss                                        0               0   \n",
       "hours-per-week                                     50              45   \n",
       "native-country                          United-States   United-States   \n",
       "wage                                              1.0             1.0   \n",
       "workclass_ Federal-gov                              0               0   \n",
       "workclass_ Local-gov                                0               0   \n",
       "workclass_ Never-worked                             0               0   \n",
       "workclass_ Private                                  1               1   \n",
       "workclass_ Self-emp-inc                             0               0   \n",
       "workclass_ Self-emp-not-inc                         0               0   \n",
       "workclass_ State-gov                                0               0   \n",
       "workclass_ Without-pay                              0               0   \n",
       "marital-status_ Married-AF-spouse                   0               0   \n",
       "marital-status_ Married-civ-spouse                  1               1   \n",
       "marital-status_ Married-spouse-absent               0               0   \n",
       "marital-status_ Never-married                       0               0   \n",
       "marital-status_ Separated                           0               0   \n",
       "marital-status_ Widowed                             0               0   \n",
       "occupation_ Adm-clerical                            0               0   \n",
       "occupation_ Armed-Forces                            0               0   \n",
       "occupation_ Craft-repair                            0               0   \n",
       "occupation_ Exec-managerial                         0               0   \n",
       "occupation_ Farming-fishing                         0               0   \n",
       "occupation_ Handlers-cleaners                       0               0   \n",
       "occupation_ Machine-op-inspct                       0               0   \n",
       "occupation_ Other-service                           0               1   \n",
       "occupation_ Priv-house-serv                         0               0   \n",
       "occupation_ Prof-specialty                          0               0   \n",
       "occupation_ Protective-serv                         0               0   \n",
       "occupation_ Sales                                   1               0   \n",
       "occupation_ Tech-support                            0               0   \n",
       "occupation_ Transport-moving                        0               0   \n",
       "sex_ Male                                           1               1   \n",
       "\n",
       "                                                    4  \n",
       "age                                                40  \n",
       "fnlwgt                                          56795  \n",
       "education                                     Masters  \n",
       "education-num                                      14  \n",
       "relationship                            Not-in-family  \n",
       "capital-gain                                    14084  \n",
       "capital-loss                                        0  \n",
       "hours-per-week                                     55  \n",
       "native-country                          United-States  \n",
       "wage                                              1.0  \n",
       "workclass_ Federal-gov                              1  \n",
       "workclass_ Local-gov                                0  \n",
       "workclass_ Never-worked                             0  \n",
       "workclass_ Private                                  0  \n",
       "workclass_ Self-emp-inc                             0  \n",
       "workclass_ Self-emp-not-inc                         0  \n",
       "workclass_ State-gov                                0  \n",
       "workclass_ Without-pay                              0  \n",
       "marital-status_ Married-AF-spouse                   0  \n",
       "marital-status_ Married-civ-spouse                  0  \n",
       "marital-status_ Married-spouse-absent               0  \n",
       "marital-status_ Never-married                       1  \n",
       "marital-status_ Separated                           0  \n",
       "marital-status_ Widowed                             0  \n",
       "occupation_ Adm-clerical                            0  \n",
       "occupation_ Armed-Forces                            0  \n",
       "occupation_ Craft-repair                            0  \n",
       "occupation_ Exec-managerial                         1  \n",
       "occupation_ Farming-fishing                         0  \n",
       "occupation_ Handlers-cleaners                       0  \n",
       "occupation_ Machine-op-inspct                       0  \n",
       "occupation_ Other-service                           0  \n",
       "occupation_ Priv-house-serv                         0  \n",
       "occupation_ Prof-specialty                          0  \n",
       "occupation_ Protective-serv                         0  \n",
       "occupation_ Sales                                   0  \n",
       "occupation_ Tech-support                            0  \n",
       "occupation_ Transport-moving                        0  \n",
       "sex_ Male                                           0  "
      ]
     },
     "execution_count": 108,
     "metadata": {},
     "output_type": "execute_result"
    }
   ],
   "source": [
    "#view the new feature columns\n",
    "concat_train_test.head().T\n"
   ]
  },
  {
   "cell_type": "markdown",
   "id": "2c66f721",
   "metadata": {},
   "source": [
    "## 1.4) Drop Features"
   ]
  },
  {
   "cell_type": "code",
   "execution_count": 109,
   "id": "167cd7e4",
   "metadata": {},
   "outputs": [],
   "source": [
    "drop_feats = ['fnlwgt', 'education',\n",
    "              'relationship', #'capital-gain','capital-loss',\n",
    "              'native-country',\n",
    "             ]\n",
    "\n",
    "concat_train_test.drop(columns=drop_feats, inplace = True)"
   ]
  },
  {
   "cell_type": "markdown",
   "id": "d1d93d9f",
   "metadata": {},
   "source": [
    "# 2) Re-Split train and test data"
   ]
  },
  {
   "cell_type": "code",
   "execution_count": 110,
   "id": "37d73618",
   "metadata": {},
   "outputs": [],
   "source": [
    "data = concat_train_test.iloc[:len(data),:] #dummied, dropped\n",
    "test_data = concat_train_test.iloc[len(data):] # dummied, dropped"
   ]
  },
  {
   "cell_type": "markdown",
   "id": "087a6e5e",
   "metadata": {},
   "source": [
    "# 3) Data Imbalance\n",
    "We will upsample the >50k group to deal with the fact that 76% of the data points are for the <=50k group. "
   ]
  },
  {
   "cell_type": "code",
   "execution_count": 111,
   "id": "17f248c1-a5da-4587-b3f9-7d4c43087c52",
   "metadata": {},
   "outputs": [
    {
     "data": {
      "text/plain": [
       "0.0    4945\n",
       "1.0    1568\n",
       "Name: wage, dtype: int64"
      ]
     },
     "execution_count": 111,
     "metadata": {},
     "output_type": "execute_result"
    }
   ],
   "source": [
    "# examine class balance\n",
    "data['wage'].value_counts() "
   ]
  },
  {
   "cell_type": "code",
   "execution_count": 112,
   "id": "0e100abf-f714-4315-8541-b69b8ff5bfd9",
   "metadata": {},
   "outputs": [
    {
     "data": {
      "text/plain": [
       "0.0    0.759251\n",
       "1.0    0.240749\n",
       "Name: wage, dtype: float64"
      ]
     },
     "execution_count": 112,
     "metadata": {},
     "output_type": "execute_result"
    }
   ],
   "source": [
    "data['wage'].value_counts(normalize=True)"
   ]
  },
  {
   "cell_type": "code",
   "execution_count": 113,
   "id": "03aa67d6",
   "metadata": {},
   "outputs": [
    {
     "data": {
      "text/plain": [
       "0.0    4945\n",
       "1.0    4945\n",
       "Name: wage, dtype: int64"
      ]
     },
     "execution_count": 113,
     "metadata": {},
     "output_type": "execute_result"
    }
   ],
   "source": [
    "from sklearn.utils import resample\n",
    "\n",
    "# rows with wage = 0 (76%)\n",
    "under_50k = data[ data['wage'] == 0]\n",
    "\n",
    "#rows with wage =1 (24%)\n",
    "over_50k = data[data['wage'] == 1]\n",
    "\n",
    "#augment B to have the same number of rows as A\n",
    "over_50k_aug = resample(over_50k, \n",
    "                replace = True,\n",
    "                n_samples = len(under_50k),\n",
    "                 random_state = 14\n",
    "                )\n",
    "\n",
    "data_balanced = pd.concat([under_50k,over_50k_aug] )\n",
    "data_balanced['wage'].value_counts()"
   ]
  },
  {
   "cell_type": "markdown",
   "id": "3be084b8",
   "metadata": {},
   "source": [
    "# 4) Split X & Y  (source & target)"
   ]
  },
  {
   "cell_type": "code",
   "execution_count": 114,
   "id": "93857052",
   "metadata": {},
   "outputs": [],
   "source": [
    "X = data_balanced.drop(columns = ['wage'])\n",
    "y = data_balanced['wage']"
   ]
  },
  {
   "cell_type": "markdown",
   "id": "e8bf0ab6-3657-45e8-bebd-66f24aee247b",
   "metadata": {},
   "source": [
    "For the test data, there isno target. "
   ]
  },
  {
   "cell_type": "code",
   "execution_count": 115,
   "id": "69c07e71-5263-4e63-8f48-540d5d3bdd31",
   "metadata": {},
   "outputs": [],
   "source": [
    "X_test = test_data.drop(columns = ['wage'])\n",
    "# y_test will be predicted below and assesed by judges."
   ]
  },
  {
   "cell_type": "code",
   "execution_count": 116,
   "id": "13f8c578",
   "metadata": {},
   "outputs": [],
   "source": [
    "from sklearn.model_selection import train_test_split\n",
    "\n",
    "X_train,X_val,y_train,y_val = train_test_split(X,y,random_state=8,shuffle=True ,stratify=y)"
   ]
  },
  {
   "cell_type": "markdown",
   "id": "0b9ac78f",
   "metadata": {},
   "source": [
    "# 5) Models to stack"
   ]
  },
  {
   "cell_type": "markdown",
   "id": "62a58499",
   "metadata": {},
   "source": [
    "**Plan**: Grid search for each model type, then stack.\n"
   ]
  },
  {
   "cell_type": "code",
   "execution_count": 117,
   "id": "8e67c92d",
   "metadata": {},
   "outputs": [],
   "source": [
    "import time \n",
    "from sklearn.pipeline import Pipeline \n",
    "from sklearn.model_selection import GridSearchCV\n",
    "from sklearn.model_selection import cross_val_score\n",
    "from sklearn.preprocessing import StandardScaler"
   ]
  },
  {
   "cell_type": "markdown",
   "id": "c69efba9",
   "metadata": {},
   "source": [
    "### Logistic Regression"
   ]
  },
  {
   "cell_type": "code",
   "execution_count": 119,
   "id": "21d50225",
   "metadata": {},
   "outputs": [
    {
     "name": "stdout",
     "output_type": "stream",
     "text": [
      "Train score: 0.8120533908588378\n",
      "Test score: 0.8111605337646584\n",
      "CPU times: user 1.46 s, sys: 421 ms, total: 1.88 s\n",
      "Wall time: 304 ms\n"
     ]
    },
    {
     "data": {
      "text/plain": [
       "(0.8073380613711916, {'logreg__penalty': 'l2'})"
      ]
     },
     "execution_count": 119,
     "metadata": {},
     "output_type": "execute_result"
    }
   ],
   "source": [
    "%%time\n",
    "from sklearn.linear_model import LogisticRegression\n",
    "\n",
    "pipe_logreg = Pipeline([\n",
    "    ('ss',StandardScaler()),\n",
    "    ('logreg',LogisticRegression(penalty='l2' , max_iter=10**5) )\n",
    "     ])\n",
    "\n",
    "grid_logreg = {\n",
    "    'logreg__penalty': ['l2','none'],\n",
    "}\n",
    "gs_logreg = GridSearchCV(pipe_logreg, \n",
    "                         param_grid= grid_logreg,\n",
    "                        )\n",
    "\n",
    "gs_logreg.fit(X_train,y_train)\n",
    "\n",
    "print(f'Train score: {gs_logreg.score(X_train,y_train)}')\n",
    "print(f'Test score: {gs_logreg.score(X_val,y_val)}')\n",
    "gs_logreg.best_score_, gs_logreg.best_params_ "
   ]
  },
  {
   "cell_type": "code",
   "execution_count": 80,
   "id": "46a949c5",
   "metadata": {},
   "outputs": [],
   "source": [
    "# pipe_logreg.get_params()\n"
   ]
  },
  {
   "cell_type": "markdown",
   "id": "5600a18a",
   "metadata": {},
   "source": [
    "### kNN"
   ]
  },
  {
   "cell_type": "code",
   "execution_count": 120,
   "id": "ab207fb1",
   "metadata": {},
   "outputs": [
    {
     "name": "stdout",
     "output_type": "stream",
     "text": [
      "Train score: 0.9897532695159769\n",
      "Test score: 0.8811160533764658\n",
      "CPU times: user 49.2 s, sys: 10.9 s, total: 1min\n",
      "Wall time: 8.72 s\n"
     ]
    },
    {
     "data": {
      "text/plain": [
       "(0.8682759504392095, {'knn__n_neighbors': 8, 'knn__weights': 'distance'})"
      ]
     },
     "execution_count": 120,
     "metadata": {},
     "output_type": "execute_result"
    }
   ],
   "source": [
    "%%time\n",
    "from sklearn.neighbors import KNeighborsClassifier\n",
    "\n",
    "pipe_knn = Pipeline([\n",
    "    ('ss',StandardScaler()),\n",
    "    ('knn' , KNeighborsClassifier(n_neighbors=10,weights='uniform') )\n",
    "])\n",
    "\n",
    "grid_knn = {'knn__n_neighbors':[8,9,10,11,12],\n",
    "            'knn__weights': ['uniform','distance']\n",
    "           }\n",
    "\n",
    "gs_knn =GridSearchCV(pipe_knn,\n",
    "                    param_grid=grid_knn)\n",
    "\n",
    "gs_knn.fit(X_train, y_train)\n",
    "print(f'Train score: {gs_knn.score(X_train,y_train)}')\n",
    "print(f'Test score: {gs_knn.score(X_val,y_val)}')\n",
    "\n",
    "gs_knn.best_score_ , gs_knn.best_params_"
   ]
  },
  {
   "cell_type": "markdown",
   "id": "d35f9d9c",
   "metadata": {},
   "source": [
    "### Decision Tree"
   ]
  },
  {
   "cell_type": "code",
   "execution_count": 122,
   "id": "cdde9e7f",
   "metadata": {},
   "outputs": [
    {
     "name": "stdout",
     "output_type": "stream",
     "text": [
      "Train score: 0.9730349197788863\n",
      "Test score: 0.8993125758188435\n",
      "CPU times: user 1.29 s, sys: 6.88 ms, total: 1.29 s\n",
      "Wall time: 1.29 s\n"
     ]
    },
    {
     "data": {
      "text/plain": [
       "(0.863557606149115, {'dtc__max_depth': None, 'dtc__min_samples_split': 5})"
      ]
     },
     "execution_count": 122,
     "metadata": {},
     "output_type": "execute_result"
    }
   ],
   "source": [
    "%%time\n",
    "\n",
    "from sklearn.tree import DecisionTreeClassifier\n",
    "\n",
    "\n",
    "pipe_dtc = Pipeline([\n",
    "    ('ss',StandardScaler()),\n",
    "    ('dtc',DecisionTreeClassifier(max_depth=5,min_samples_split=5) )\n",
    "     ])\n",
    "\n",
    "grid_dtc = {\n",
    "    'dtc__max_depth': [None,1,5,10,15], \n",
    "    'dtc__min_samples_split': [5,6,7,8],\n",
    "}\n",
    "gs_dtc = GridSearchCV(pipe_dtc, \n",
    "                         param_grid= grid_dtc,\n",
    "                        )\n",
    "gs_dtc.fit(X_train,y_train)\n",
    "print(f'Train score: {gs_dtc.score(X_train,y_train)}')\n",
    "print(f'Test score: {gs_dtc.score(X_val,y_val)}')\n",
    "\n",
    "gs_dtc.best_score_, gs_dtc.best_params_\n"
   ]
  },
  {
   "cell_type": "code",
   "execution_count": 123,
   "id": "00c59c71",
   "metadata": {},
   "outputs": [],
   "source": [
    "# pipe_dtc.get_params()"
   ]
  },
  {
   "cell_type": "markdown",
   "id": "f21afaf0",
   "metadata": {},
   "source": [
    "### Bagging Trees"
   ]
  },
  {
   "cell_type": "code",
   "execution_count": 124,
   "id": "1c0ef218",
   "metadata": {},
   "outputs": [
    {
     "name": "stdout",
     "output_type": "stream",
     "text": [
      "Train score: 0.9897532695159769\n",
      "Test score: 0.9158916295996765\n",
      "CPU times: user 8.73 s, sys: 47.6 ms, total: 8.78 s\n",
      "Wall time: 8.78 s\n"
     ]
    },
    {
     "data": {
      "text/plain": [
       "(0.8920056234812147, {'btc__n_estimators': 150})"
      ]
     },
     "execution_count": 124,
     "metadata": {},
     "output_type": "execute_result"
    }
   ],
   "source": [
    "%%time\n",
    "\n",
    "from sklearn.ensemble import BaggingClassifier\n",
    "\n",
    "pipe_btc = Pipeline([\n",
    "    ('ss',StandardScaler()),\n",
    "    ('btc',BaggingClassifier(n_estimators=150) )\n",
    "     ])\n",
    "\n",
    "grid_btc = {\n",
    "    'btc__n_estimators': [150],\n",
    "#     'btc__max_depth': [None,1,5,10,15], \n",
    "#     'btc__min_samples_split': [5,6,7,8],\n",
    "}\n",
    "gs_btc = GridSearchCV(pipe_btc, \n",
    "                         param_grid= grid_btc,\n",
    "                        )\n",
    "gs_btc.fit(X_train,y_train)\n",
    "print(f'Train score: {gs_btc.score(X_train,y_train)}')\n",
    "print(f'Test score: {gs_btc.score(X_val,y_val)}')\n",
    "\n",
    "gs_btc.best_score_, gs_btc.best_params_"
   ]
  },
  {
   "cell_type": "code",
   "execution_count": 125,
   "id": "a94a8ba6",
   "metadata": {},
   "outputs": [],
   "source": [
    "# pipe_btc.get_params()"
   ]
  },
  {
   "cell_type": "markdown",
   "id": "d37b7e90",
   "metadata": {},
   "source": [
    "### Random Forest"
   ]
  },
  {
   "cell_type": "code",
   "execution_count": 126,
   "id": "6033f7fd",
   "metadata": {},
   "outputs": [
    {
     "name": "stdout",
     "output_type": "stream",
     "text": [
      "Train score: 0.937845490090333\n",
      "Test score: 0.8920339668418924\n",
      "CPU times: user 31.2 s, sys: 148 ms, total: 31.4 s\n",
      "Wall time: 31.4 s\n"
     ]
    },
    {
     "data": {
      "text/plain": [
       "(0.8872868248051138, {'rfc__max_depth': 16, 'rfc__n_estimators': 150})"
      ]
     },
     "execution_count": 126,
     "metadata": {},
     "output_type": "execute_result"
    }
   ],
   "source": [
    "%%time\n",
    "from sklearn.ensemble import RandomForestClassifier\n",
    "# rfc = RandomForestClassifier()\n",
    "\n",
    "pipe_rfc = Pipeline([\n",
    "    ('ss',StandardScaler()),\n",
    "    ('rfc',RandomForestClassifier(max_depth=10, n_estimators=200) )\n",
    "     ])\n",
    "\n",
    "grid_rfc = {\n",
    "    'rfc__n_estimators': [100,150,200],\n",
    "    'rfc__max_depth': [6,8,10,12,14,16],\n",
    "}\n",
    "gs_rfc = GridSearchCV(pipe_rfc, \n",
    "                         param_grid= grid_rfc,\n",
    "                        )\n",
    "gs_rfc.fit(X_train,y_train)\n",
    "print(f'Train score: {gs_rfc.score(X_train,y_train)}')\n",
    "print(f'Test score: {gs_rfc.score(X_val,y_val)}')\n",
    "\n",
    "gs_rfc.best_score_, gs_rfc.best_params_ #cvs.832 {'rfc__max_depth': 10, 'rfc__n_estimators': 200})\n"
   ]
  },
  {
   "cell_type": "code",
   "execution_count": 127,
   "id": "628d513f",
   "metadata": {},
   "outputs": [],
   "source": [
    "# pipe_rfc.get_params()"
   ]
  },
  {
   "cell_type": "markdown",
   "id": "2c2cc921",
   "metadata": {},
   "source": [
    "### AdaBoost Logreg"
   ]
  },
  {
   "cell_type": "code",
   "execution_count": 128,
   "id": "56ae2547",
   "metadata": {},
   "outputs": [
    {
     "name": "stdout",
     "output_type": "stream",
     "text": [
      "Train score: 0.805446946204665\n",
      "Test score: 0.8091386979377274\n",
      "CPU times: user 1min 9s, sys: 16.2 s, total: 1min 25s\n",
      "Wall time: 11.8 s\n"
     ]
    },
    {
     "data": {
      "text/plain": [
       "(0.8047756878040978,\n",
       " {'ada_logreg__learning_rate': 0.9, 'ada_logreg__n_estimators': 100})"
      ]
     },
     "execution_count": 128,
     "metadata": {},
     "output_type": "execute_result"
    }
   ],
   "source": [
    "%%time\n",
    "from sklearn.ensemble import AdaBoostClassifier\n",
    "ada_logreg = AdaBoostClassifier(base_estimator=LogisticRegression())\n",
    "\n",
    "pipe_ada_logreg = Pipeline([\n",
    "    ('ss',StandardScaler()),\n",
    "    ('ada_logreg', AdaBoostClassifier(base_estimator=LogisticRegression(),\n",
    "                                      learning_rate=1.1,n_estimators = 10),\n",
    "    )\n",
    "     ])\n",
    "\n",
    "grid_ada_logreg = {\n",
    "'ada_logreg__learning_rate': [0.9,1.0,1.1],\n",
    " 'ada_logreg__n_estimators': [10,50,100],\n",
    "}\n",
    "gs_ada_logreg = GridSearchCV(pipe_ada_logreg, \n",
    "                         param_grid= grid_ada_logreg,\n",
    "                        )\n",
    "gs_ada_logreg.fit(X_train,y_train)\n",
    "print(f'Train score: {gs_ada_logreg.score(X_train,y_train)}')\n",
    "print(f'Test score: {gs_ada_logreg.score(X_val,y_val)}')\n",
    "\n",
    "gs_ada_logreg.best_score_, gs_ada_logreg.best_params_ # 0.8296472557343492"
   ]
  },
  {
   "cell_type": "code",
   "execution_count": 129,
   "id": "707d7b57",
   "metadata": {},
   "outputs": [],
   "source": [
    "# pipe_ada_logreg.get_params()"
   ]
  },
  {
   "cell_type": "markdown",
   "id": "d2959537",
   "metadata": {},
   "source": [
    "### AdaBoost Decision Tree"
   ]
  },
  {
   "cell_type": "code",
   "execution_count": 130,
   "id": "53694090",
   "metadata": {},
   "outputs": [
    {
     "name": "stdout",
     "output_type": "stream",
     "text": [
      "Train score: 0.9897532695159769\n",
      "Test score: 0.921552769915083\n",
      "CPU times: user 20.9 s, sys: 52.9 ms, total: 21 s\n",
      "Wall time: 21 s\n"
     ]
    },
    {
     "data": {
      "text/plain": [
       "(0.897937814548713,\n",
       " {'ada_tree__learning_rate': 1.0, 'ada_tree__n_estimators': 50})"
      ]
     },
     "execution_count": 130,
     "metadata": {},
     "output_type": "execute_result"
    }
   ],
   "source": [
    "%%time\n",
    "from sklearn.ensemble import AdaBoostClassifier\n",
    "# ada_tree = AdaBoostClassifier(base_estimator=DecisionTreeClassifier())\n",
    "pipe_ada_tree = Pipeline([\n",
    "    ('ss',StandardScaler()),\n",
    "    ('ada_tree', AdaBoostClassifier(base_estimator=DecisionTreeClassifier(),learning_rate =0.9,n_estimators=100) )\n",
    "     ])\n",
    "\n",
    "grid_ada_tree = {\n",
    "'ada_tree__learning_rate': [0.9,1.0,1.1],\n",
    " 'ada_tree__n_estimators': [10,50,100],\n",
    "}\n",
    "gs_ada_tree = GridSearchCV(pipe_ada_tree, \n",
    "                         param_grid= grid_ada_tree,\n",
    "                        )\n",
    "gs_ada_tree.fit(X_train,y_train)\n",
    "print(f'Train score: {gs_ada_tree.score(X_train,y_train)}')\n",
    "print(f'Test score: {gs_ada_tree.score(X_val,y_val)}')\n",
    "\n",
    "gs_ada_tree.best_score_, gs_ada_tree.best_params_\n"
   ]
  },
  {
   "cell_type": "markdown",
   "id": "920403cb",
   "metadata": {},
   "source": [
    "# 6) Stack the best model from each model class"
   ]
  },
  {
   "cell_type": "code",
   "execution_count": 131,
   "id": "302955a6",
   "metadata": {},
   "outputs": [],
   "source": [
    "from sklearn.ensemble import StackingClassifier"
   ]
  },
  {
   "cell_type": "code",
   "execution_count": 132,
   "id": "ce19ff08-d186-4d6e-ae76-e9d8c36a29c7",
   "metadata": {},
   "outputs": [],
   "source": [
    "level1_models = [\n",
    "#     ('pipe_logreg', Pipeline([\n",
    "#             ('ss',StandardScaler()),\n",
    "#             ('logreg',LogisticRegression(penalty='l2' , max_iter=10**5) )])\n",
    "#             ), #end pipe_logreg\n",
    "    ('pipe_knn', Pipeline([\n",
    "        ('ss',StandardScaler()),\n",
    "        ('knn' , KNeighborsClassifier(n_neighbors=10,weights='uniform') )] )\n",
    "            ), # end pipe_knn\n",
    "    ('pipe_dtc' , Pipeline([\n",
    "        ('ss',StandardScaler()),\n",
    "        ('dtc',DecisionTreeClassifier(max_depth=5) )])\n",
    "            ), # end pipe_dtc\n",
    "    ('pipe_btc',Pipeline([\n",
    "        ('ss',StandardScaler()),\n",
    "        ('btc',BaggingClassifier(n_estimators=150) )\n",
    "         ])\n",
    "            ), #end bag\n",
    "    ('pipe_rfc', Pipeline([\n",
    "        ('ss',StandardScaler()),\n",
    "        ('rfc',RandomForestClassifier(max_depth=10, n_estimators=200) )\n",
    "         ])\n",
    "            ), # end rfc \n",
    "#     ('pipe_ada_logreg' , Pipeline([\n",
    "#         ('ss',StandardScaler()),\n",
    "#         ('ada_logreg', AdaBoostClassifier(base_estimator=LogisticRegression(),\n",
    "#                                             learning_rate=1.1, n_estimators = 10))\n",
    "#          ])\n",
    "#         ), #end adalog\n",
    "    ('pipe_ada_tree' , Pipeline([\n",
    "        ('ss',StandardScaler()),\n",
    "        ('ada_tree', AdaBoostClassifier(base_estimator=DecisionTreeClassifier(),learning_rate =0.9,n_estimators=100) )\n",
    "         ]) #end adatree\n",
    ")\n",
    "                ]\n",
    "     \n",
    "\n",
    "stack = StackingClassifier(estimators=level1_models,\n",
    "                         final_estimator=LogisticRegression())"
   ]
  },
  {
   "cell_type": "code",
   "execution_count": 133,
   "id": "da2c196e-54b9-43e6-9a33-2dd363607a87",
   "metadata": {},
   "outputs": [
    {
     "name": "stdout",
     "output_type": "stream",
     "text": [
      "CPU times: user 1min 31s, sys: 5.98 s, total: 1min 37s\n",
      "Wall time: 1min 13s\n"
     ]
    },
    {
     "data": {
      "text/plain": [
       "0.9013086316983314"
      ]
     },
     "execution_count": 133,
     "metadata": {},
     "output_type": "execute_result"
    }
   ],
   "source": [
    "%%time\n",
    "cross_val_score(stack,X_train, y_train).mean() #0.9010390899193557"
   ]
  },
  {
   "cell_type": "code",
   "execution_count": 134,
   "id": "97cc063f-ba2a-4cf2-a89d-031f2c03a857",
   "metadata": {},
   "outputs": [
    {
     "name": "stdout",
     "output_type": "stream",
     "text": [
      "CPU times: user 23.4 s, sys: 2.14 s, total: 25.5 s\n",
      "Wall time: 18.5 s\n"
     ]
    },
    {
     "data": {
      "text/plain": [
       "(0.9886746663071323, 0.937845490090333)"
      ]
     },
     "execution_count": 134,
     "metadata": {},
     "output_type": "execute_result"
    }
   ],
   "source": [
    "%%time\n",
    "stack.fit(X_train,y_train)\n",
    "\n",
    "stack.score(X_train,y_train), gs_rfc.score(X_train,y_train)"
   ]
  },
  {
   "cell_type": "code",
   "execution_count": 135,
   "id": "5f2c60d5",
   "metadata": {},
   "outputs": [
    {
     "data": {
      "text/plain": [
       "(0.9276182773958754, 0.8920339668418924)"
      ]
     },
     "execution_count": 135,
     "metadata": {},
     "output_type": "execute_result"
    }
   ],
   "source": [
    "stack.score(X_val,y_val),gs_rfc.score(X_val,y_val)"
   ]
  },
  {
   "cell_type": "code",
   "execution_count": 81,
   "id": "34798ae8",
   "metadata": {},
   "outputs": [],
   "source": [
    "#sub_d = test_data.drop(columns=['wage'])"
   ]
  },
  {
   "cell_type": "code",
   "execution_count": 137,
   "id": "06f70be2",
   "metadata": {},
   "outputs": [],
   "source": [
    "# X_test = test_data.drop(columns=['wage']) above\n",
    "preds = stack.predict(X_test)\n",
    "probs = stack.predict_proba(X_test)"
   ]
  },
  {
   "cell_type": "code",
   "execution_count": 140,
   "id": "ebe033a7",
   "metadata": {},
   "outputs": [
    {
     "data": {
      "text/plain": [
       "(Int64Index([0, 1, 2, 3, 4], dtype='int64'),\n",
       " Int64Index([16276, 16277, 16278, 16279, 16280], dtype='int64'))"
      ]
     },
     "execution_count": 140,
     "metadata": {},
     "output_type": "execute_result"
    }
   ],
   "source": [
    "# checking index of test dataset was retained before creating a data frame \n",
    "test_data.index[:5], test_data.index[-5:]"
   ]
  },
  {
   "cell_type": "code",
   "execution_count": 156,
   "id": "23912fef-2103-470c-86e3-3208e4725998",
   "metadata": {},
   "outputs": [
    {
     "data": {
      "text/html": [
       "<div>\n",
       "<style scoped>\n",
       "    .dataframe tbody tr th:only-of-type {\n",
       "        vertical-align: middle;\n",
       "    }\n",
       "\n",
       "    .dataframe tbody tr th {\n",
       "        vertical-align: top;\n",
       "    }\n",
       "\n",
       "    .dataframe thead th {\n",
       "        text-align: right;\n",
       "    }\n",
       "</style>\n",
       "<table border=\"1\" class=\"dataframe\">\n",
       "  <thead>\n",
       "    <tr style=\"text-align: right;\">\n",
       "      <th></th>\n",
       "      <th>preds</th>\n",
       "      <th>wage</th>\n",
       "    </tr>\n",
       "  </thead>\n",
       "  <tbody>\n",
       "    <tr>\n",
       "      <th>0</th>\n",
       "      <td>0</td>\n",
       "      <td>0.992403</td>\n",
       "    </tr>\n",
       "    <tr>\n",
       "      <th>1</th>\n",
       "      <td>0</td>\n",
       "      <td>0.937127</td>\n",
       "    </tr>\n",
       "    <tr>\n",
       "      <th>2</th>\n",
       "      <td>0</td>\n",
       "      <td>0.719230</td>\n",
       "    </tr>\n",
       "    <tr>\n",
       "      <th>3</th>\n",
       "      <td>1</td>\n",
       "      <td>0.094925</td>\n",
       "    </tr>\n",
       "    <tr>\n",
       "      <th>4</th>\n",
       "      <td>0</td>\n",
       "      <td>0.992675</td>\n",
       "    </tr>\n",
       "  </tbody>\n",
       "</table>\n",
       "</div>"
      ],
      "text/plain": [
       "   preds      wage\n",
       "0      0  0.992403\n",
       "1      0  0.937127\n",
       "2      0  0.719230\n",
       "3      1  0.094925\n",
       "4      0  0.992675"
      ]
     },
     "execution_count": 156,
     "metadata": {},
     "output_type": "execute_result"
    }
   ],
   "source": [
    "submission = pd.DataFrame(\n",
    "                index = test_data.index, # index from test data\n",
    "                columns=['preds','wage'] #required column names \n",
    "                         )\n",
    "submission['preds'] = preds.astype(int)\n",
    "submission['wage'] = probs\n",
    "\n",
    "submission.head()"
   ]
  },
  {
   "cell_type": "code",
   "execution_count": 153,
   "id": "87684341-036d-4f19-a840-c101af31a487",
   "metadata": {},
   "outputs": [],
   "source": [
    "submission.to_csv(path_or_buf='sub.csv', index=False)"
   ]
  },
  {
   "cell_type": "markdown",
   "id": "24307536",
   "metadata": {
    "tags": []
   },
   "source": [
    "# 7) Metrics\n",
    "\n",
    "## 7.1) F1 score"
   ]
  },
  {
   "cell_type": "markdown",
   "id": "e0510198-d64a-40dc-a195-d6a42699e813",
   "metadata": {},
   "source": [
    "This competition will be judge on F1 scores. Thus, we examine"
   ]
  },
  {
   "cell_type": "code",
   "execution_count": 157,
   "id": "4d184c73",
   "metadata": {},
   "outputs": [],
   "source": [
    "from sklearn.metrics import f1_score"
   ]
  },
  {
   "cell_type": "code",
   "execution_count": 161,
   "id": "30717b52",
   "metadata": {},
   "outputs": [
    {
     "data": {
      "text/plain": [
       "0.9299412915851272"
      ]
     },
     "execution_count": 161,
     "metadata": {},
     "output_type": "execute_result"
    }
   ],
   "source": [
    "f1_score(y_val,stack.predict(X_val)) "
   ]
  },
  {
   "cell_type": "markdown",
   "id": "2f7513d3",
   "metadata": {},
   "source": [
    "# Confusion Matrix "
   ]
  },
  {
   "cell_type": "code",
   "execution_count": 160,
   "id": "ba3f3d11",
   "metadata": {},
   "outputs": [
    {
     "name": "stderr",
     "output_type": "stream",
     "text": [
      "/Users/wonderman/opt/anaconda3/lib/python3.9/site-packages/sklearn/utils/deprecation.py:87: FutureWarning: Function plot_confusion_matrix is deprecated; Function `plot_confusion_matrix` is deprecated in 1.0 and will be removed in 1.2. Use one of the class methods: ConfusionMatrixDisplay.from_predictions or ConfusionMatrixDisplay.from_estimator.\n",
      "  warnings.warn(msg, category=FutureWarning)\n"
     ]
    },
    {
     "data": {
      "image/png": "[encoded data removed]",
      "text/plain": [
       "<Figure size 432x288 with 1 Axes>"
      ]
     },
     "metadata": {
      "needs_background": "light"
     },
     "output_type": "display_data"
    }
   ],
   "source": [
    "from sklearn.metrics import plot_confusion_matrix \n",
    "\n",
    "plot_confusion_matrix(stack, X_val,y_val, cmap='ocean', \n",
    "                      display_labels=['<= $50k','> $50k'],\n",
    "                     colorbar=False); "
   ]
  },
  {
   "cell_type": "code",
   "execution_count": 162,
   "id": "2fd39ec5",
   "metadata": {},
   "outputs": [
    {
     "name": "stderr",
     "output_type": "stream",
     "text": [
      "/Users/wonderman/opt/anaconda3/lib/python3.9/site-packages/sklearn/utils/deprecation.py:87: FutureWarning: Function plot_roc_curve is deprecated; Function :func:`plot_roc_curve` is deprecated in 1.0 and will be removed in 1.2. Use one of the class methods: :meth:`sklearn.metric.RocCurveDisplay.from_predictions` or :meth:`sklearn.metric.RocCurveDisplay.from_estimator`.\n",
      "  warnings.warn(msg, category=FutureWarning)\n"
     ]
    },
    {
     "data": {
      "image/png": "[encoded data removed]",
      "text/plain": [
       "<Figure size 432x288 with 1 Axes>"
      ]
     },
     "metadata": {
      "needs_background": "light"
     },
     "output_type": "display_data"
    }
   ],
   "source": [
    "from sklearn import metrics\n",
    "metrics.plot_roc_curve(stack, X_val,y_val)\n",
    "plt.plot([0,1],[0,1], color='r', label='Baseline')\n",
    "# add a legend\n",
    "plt.legend();"
   ]
  },
  {
   "cell_type": "code",
   "execution_count": 163,
   "id": "3e3633da",
   "metadata": {},
   "outputs": [
    {
     "data": {
      "text/plain": [
       "0.979344405114158"
      ]
     },
     "execution_count": 163,
     "metadata": {},
     "output_type": "execute_result"
    }
   ],
   "source": [
    "probs = stack.predict_proba(X_val)[:,1]\n",
    "metrics.roc_auc_score(y_val,probs)"
   ]
  },
  {
   "cell_type": "code",
   "execution_count": null,
   "id": "9ffd162e-09e2-49a7-9db7-e43572ae0aad",
   "metadata": {},
   "outputs": [],
   "source": []
  }
 ],
 "metadata": {
  "kernelspec": {
   "display_name": "Python 3 (ipykernel)",
   "language": "python",
   "name": "python3"
  },
  "language_info": {
   "codemirror_mode": {
    "name": "ipython",
    "version": 3
   },
   "file_extension": ".py",
   "mimetype": "text/x-python",
   "name": "python",
   "nbconvert_exporter": "python",
   "pygments_lexer": "ipython3",
   "version": "3.9.7"
  }
 },
 "nbformat": 4,
 "nbformat_minor": 5
}
