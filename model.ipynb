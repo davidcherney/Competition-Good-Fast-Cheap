{
 "cells": [
  {
   "cell_type": "code",
   "execution_count": 16,
   "id": "5b499343-80ba-4866-bc26-534e3995b0fa",
   "metadata": {},
   "outputs": [],
   "source": [
    "import numpy as np\n",
    "import pandas as pd\n",
    "import matplotlib.pyplot as plt\n",
    "import seaborn as sns"
   ]
  },
  {
   "cell_type": "code",
   "execution_count": 68,
   "id": "3aba515b",
   "metadata": {},
   "outputs": [
    {
     "data": {
      "text/plain": [
       "(6513, 14)"
      ]
     },
     "execution_count": 68,
     "metadata": {},
     "output_type": "execute_result"
    }
   ],
   "source": [
    "data = pd.read_csv('cheap_train_sample.csv')\n",
    "data.shape"
   ]
  },
  {
   "cell_type": "code",
   "execution_count": 18,
   "id": "4c91cb8b",
   "metadata": {},
   "outputs": [
    {
     "data": {
      "text/plain": [
       "(16281, 13)"
      ]
     },
     "execution_count": 18,
     "metadata": {},
     "output_type": "execute_result"
    }
   ],
   "source": [
    "submission_data = pd.read_csv('test_data.csv')\n",
    "submission_data.shape"
   ]
  },
  {
   "cell_type": "code",
   "execution_count": 19,
   "id": "3977f093",
   "metadata": {},
   "outputs": [],
   "source": [
    "concat_test_train = pd.concat([data,submission_data])"
   ]
  },
  {
   "cell_type": "markdown",
   "id": "396559e7",
   "metadata": {},
   "source": [
    "# Set hours per week of `work-class` \n",
    "in  [ 'never worked' ,'without pay'] to 0."
   ]
  },
  {
   "cell_type": "code",
   "execution_count": 20,
   "id": "67037e02",
   "metadata": {},
   "outputs": [],
   "source": [
    "Fil = (concat_test_train['workclass']==' Without-pay')|(concat_test_train['workclass']==' Never-worked'  )"
   ]
  },
  {
   "cell_type": "code",
   "execution_count": 21,
   "id": "ceab9b4d",
   "metadata": {},
   "outputs": [],
   "source": [
    "concat_test_train.loc[Fil,['hours-per-week']] = 0"
   ]
  },
  {
   "cell_type": "code",
   "execution_count": 22,
   "id": "a25e3771",
   "metadata": {},
   "outputs": [],
   "source": [
    "# concat_test_train.loc[Fil,['hours-per-week']] "
   ]
  },
  {
   "cell_type": "markdown",
   "id": "e9d897cb",
   "metadata": {},
   "source": [
    "# Dummy Features"
   ]
  },
  {
   "cell_type": "code",
   "execution_count": 23,
   "id": "f039913d",
   "metadata": {},
   "outputs": [],
   "source": [
    "dumb_feats = ['workclass','marital-status','occupation','sex']\n",
    "concat_test_train = pd.get_dummies(concat_test_train, \n",
    "               columns = dumb_feats, \n",
    "               drop_first=True\n",
    "              )"
   ]
  },
  {
   "cell_type": "code",
   "execution_count": 24,
   "id": "dd7e15ba",
   "metadata": {},
   "outputs": [],
   "source": [
    "# concat_test_train.head().T\n"
   ]
  },
  {
   "cell_type": "markdown",
   "id": "2c66f721",
   "metadata": {},
   "source": [
    "# Drop Features"
   ]
  },
  {
   "cell_type": "code",
   "execution_count": 25,
   "id": "167cd7e4",
   "metadata": {},
   "outputs": [],
   "source": [
    "drop_feats = ['fnlwgt', 'education',\n",
    "              'relationship', #'capital-gain','capital-loss',\n",
    "              'native-country',\n",
    "             ]\n",
    "\n",
    "concat_test_train.drop(columns=drop_feats, inplace = True)"
   ]
  },
  {
   "cell_type": "markdown",
   "id": "3c4ce994",
   "metadata": {},
   "source": [
    "# Binarize Target Feature"
   ]
  },
  {
   "cell_type": "code",
   "execution_count": 26,
   "id": "dcb9d922",
   "metadata": {},
   "outputs": [],
   "source": [
    "concat_test_train['wage'] = concat_test_train['wage'].replace({' <=50K':0, ' >50K':1})"
   ]
  },
  {
   "cell_type": "markdown",
   "id": "d1d93d9f",
   "metadata": {},
   "source": [
    "# Re-Split data and submission data"
   ]
  },
  {
   "cell_type": "code",
   "execution_count": 27,
   "id": "37d73618",
   "metadata": {},
   "outputs": [],
   "source": [
    "data = concat_test_train.iloc[:len(data),:] #dummied, dropped\n",
    "submission_data = concat_test_train.iloc[len(data):] # dummied, dropped"
   ]
  },
  {
   "cell_type": "markdown",
   "id": "087a6e5e",
   "metadata": {},
   "source": [
    "# Upsample under 50k in data"
   ]
  },
  {
   "cell_type": "code",
   "execution_count": 28,
   "id": "4e3c8f62",
   "metadata": {},
   "outputs": [
    {
     "data": {
      "text/plain": [
       "(0.0    4945\n",
       " 1.0    1568\n",
       " Name: wage, dtype: int64,\n",
       " 0.0    0.759251\n",
       " 1.0    0.240749\n",
       " Name: wage, dtype: float64)"
      ]
     },
     "execution_count": 28,
     "metadata": {},
     "output_type": "execute_result"
    }
   ],
   "source": [
    "# examine class balance\n",
    "data['wage'].value_counts(), data['wage'].value_counts(normalize=True)"
   ]
  },
  {
   "cell_type": "code",
   "execution_count": 29,
   "id": "03aa67d6",
   "metadata": {},
   "outputs": [
    {
     "data": {
      "text/plain": [
       "0.0    4945\n",
       "1.0    4945\n",
       "Name: wage, dtype: int64"
      ]
     },
     "execution_count": 29,
     "metadata": {},
     "output_type": "execute_result"
    }
   ],
   "source": [
    "from sklearn.utils import resample\n",
    "\n",
    "# rows with wage = 0 (75%)\n",
    "A = data[ data['wage'] == 0]\n",
    "\n",
    "#rows with wage =1 (25%)\n",
    "B = data[data['wage'] == 1]\n",
    "\n",
    "#augment B to have the same number of rows as A\n",
    "B_aug = resample(B, \n",
    "                replace = True,\n",
    "                n_samples = len(A),\n",
    "                 random_state = 14\n",
    "                )\n",
    "\n",
    "data_balanced = pd.concat([A,B_aug] )\n",
    "data_balanced['wage'].value_counts()"
   ]
  },
  {
   "cell_type": "markdown",
   "id": "3be084b8",
   "metadata": {},
   "source": [
    "# Create X and Y "
   ]
  },
  {
   "cell_type": "code",
   "execution_count": 30,
   "id": "93857052",
   "metadata": {},
   "outputs": [],
   "source": [
    "X = data_balanced.drop(columns = ['wage'])\n",
    "y = data_balanced['wage']"
   ]
  },
  {
   "cell_type": "code",
   "execution_count": 31,
   "id": "2d30f0ad",
   "metadata": {},
   "outputs": [],
   "source": [
    "X_sub = submission_data.drop(columns = ['wage'])\n",
    "# y_test will be predicted. "
   ]
  },
  {
   "cell_type": "code",
   "execution_count": 32,
   "id": "13f8c578",
   "metadata": {},
   "outputs": [],
   "source": [
    "from sklearn.model_selection import train_test_split\n",
    "\n",
    "X_train,X_test,y_train,y_test = train_test_split(X,y,random_state=8,shuffle=True ,stratify=y)"
   ]
  },
  {
   "cell_type": "markdown",
   "id": "0b9ac78f",
   "metadata": {},
   "source": [
    "# Models"
   ]
  },
  {
   "cell_type": "markdown",
   "id": "62a58499",
   "metadata": {},
   "source": [
    "**Plan**: Grid search for each model type, then stack.\n"
   ]
  },
  {
   "cell_type": "code",
   "execution_count": 34,
   "id": "8e67c92d",
   "metadata": {},
   "outputs": [],
   "source": [
    "import time \n",
    "from sklearn.pipeline import Pipeline \n",
    "from sklearn.model_selection import GridSearchCV\n",
    "from sklearn.model_selection import cross_val_score\n",
    "from sklearn.preprocessing import StandardScaler"
   ]
  },
  {
   "cell_type": "markdown",
   "id": "c69efba9",
   "metadata": {},
   "source": [
    "### Logistic Regression"
   ]
  },
  {
   "cell_type": "code",
   "execution_count": 35,
   "id": "21d50225",
   "metadata": {},
   "outputs": [
    {
     "name": "stdout",
     "output_type": "stream",
     "text": [
      "Train score: 0.8120533908588378\n",
      "Test score: 0.8111605337646584\n"
     ]
    },
    {
     "data": {
      "text/plain": [
       "(0.8073380613711916, {'logreg__penalty': 'l2'})"
      ]
     },
     "execution_count": 35,
     "metadata": {},
     "output_type": "execute_result"
    }
   ],
   "source": [
    "from sklearn.linear_model import LogisticRegression\n",
    "\n",
    "pipe_logreg = Pipeline([\n",
    "    ('ss',StandardScaler()),\n",
    "    ('logreg',LogisticRegression(penalty='l2' , max_iter=10**5) )\n",
    "     ])\n",
    "\n",
    "grid_logreg = {\n",
    "    'logreg__penalty': ['l2','none'],\n",
    "}\n",
    "gs_logreg = GridSearchCV(pipe_logreg, \n",
    "                         param_grid= grid_logreg,\n",
    "                        )\n",
    "\n",
    "gs_logreg.fit(X_train,y_train)\n",
    "\n",
    "print(f'Train score: {gs_logreg.score(X_train,y_train)}')\n",
    "print(f'Test score: {gs_logreg.score(X_test,y_test)}')\n",
    "gs_logreg.best_score_, gs_logreg.best_params_ "
   ]
  },
  {
   "cell_type": "code",
   "execution_count": 36,
   "id": "46a949c5",
   "metadata": {},
   "outputs": [],
   "source": [
    "# pipe_logreg.get_params()\n"
   ]
  },
  {
   "cell_type": "markdown",
   "id": "5600a18a",
   "metadata": {},
   "source": [
    "### kNN"
   ]
  },
  {
   "cell_type": "code",
   "execution_count": 37,
   "id": "ab207fb1",
   "metadata": {},
   "outputs": [
    {
     "name": "stdout",
     "output_type": "stream",
     "text": [
      "Train score: 0.9897532695159769\n",
      "Test score: 0.8811160533764658\n"
     ]
    },
    {
     "data": {
      "text/plain": [
       "(0.8682759504392095, {'knn__n_neighbors': 8, 'knn__weights': 'distance'})"
      ]
     },
     "execution_count": 37,
     "metadata": {},
     "output_type": "execute_result"
    }
   ],
   "source": [
    "from sklearn.neighbors import KNeighborsClassifier\n",
    "\n",
    "pipe_knn = Pipeline([\n",
    "    ('ss',StandardScaler()),\n",
    "    ('knn' , KNeighborsClassifier(n_neighbors=10,weights='uniform') )\n",
    "])\n",
    "\n",
    "grid_knn = {'knn__n_neighbors':[8,9,10,11,12],\n",
    "            'knn__weights': ['uniform','distance']\n",
    "           }\n",
    "\n",
    "gs_knn =GridSearchCV(pipe_knn,\n",
    "                    param_grid=grid_knn)\n",
    "\n",
    "gs_knn.fit(X_train, y_train)\n",
    "print(f'Train score: {gs_knn.score(X_train,y_train)}')\n",
    "print(f'Test score: {gs_knn.score(X_test,y_test)}')\n",
    "\n",
    "gs_knn.best_score_ , gs_knn.best_params_"
   ]
  },
  {
   "cell_type": "markdown",
   "id": "d35f9d9c",
   "metadata": {},
   "source": [
    "### Decision Tree"
   ]
  },
  {
   "cell_type": "code",
   "execution_count": 39,
   "id": "cdde9e7f",
   "metadata": {},
   "outputs": [
    {
     "name": "stdout",
     "output_type": "stream",
     "text": [
      "Train score: 0.9664284751247135\n",
      "Test score: 0.8944601698342095\n"
     ]
    },
    {
     "data": {
      "text/plain": [
       "(0.8627494351981941, {'dtc__max_depth': None, 'dtc__min_samples_split': 6})"
      ]
     },
     "execution_count": 39,
     "metadata": {},
     "output_type": "execute_result"
    }
   ],
   "source": [
    "from sklearn.tree import DecisionTreeClassifier\n",
    "\n",
    "\n",
    "pipe_dtc = Pipeline([\n",
    "    ('ss',StandardScaler()),\n",
    "    ('dtc',DecisionTreeClassifier(max_depth=5,min_samples_split=5) )\n",
    "     ])\n",
    "\n",
    "grid_dtc = {\n",
    "    'dtc__max_depth': [None,1,5,10,15], \n",
    "    'dtc__min_samples_split': [5,6,7,8],\n",
    "}\n",
    "gs_dtc = GridSearchCV(pipe_dtc, \n",
    "                         param_grid= grid_dtc,\n",
    "                        )\n",
    "gs_dtc.fit(X_train,y_train)\n",
    "print(f'Train score: {gs_dtc.score(X_train,y_train)}')\n",
    "print(f'Test score: {gs_dtc.score(X_test,y_test)}')\n",
    "\n",
    "gs_dtc.best_score_, gs_dtc.best_params_\n"
   ]
  },
  {
   "cell_type": "code",
   "execution_count": 40,
   "id": "00c59c71",
   "metadata": {},
   "outputs": [],
   "source": [
    "# pipe_dtc.get_params()"
   ]
  },
  {
   "cell_type": "markdown",
   "id": "f21afaf0",
   "metadata": {},
   "source": [
    "### Bagging Trees"
   ]
  },
  {
   "cell_type": "code",
   "execution_count": 41,
   "id": "1c0ef218",
   "metadata": {},
   "outputs": [
    {
     "name": "stdout",
     "output_type": "stream",
     "text": [
      "Train score: 0.9897532695159769\n",
      "Test score: 0.9187221997573797\n"
     ]
    },
    {
     "data": {
      "text/plain": [
       "(0.8921402126163003, {'btc__n_estimators': 150})"
      ]
     },
     "execution_count": 41,
     "metadata": {},
     "output_type": "execute_result"
    }
   ],
   "source": [
    "from sklearn.ensemble import BaggingClassifier\n",
    "\n",
    "pipe_btc = Pipeline([\n",
    "    ('ss',StandardScaler()),\n",
    "    ('btc',BaggingClassifier(n_estimators=150) )\n",
    "     ])\n",
    "\n",
    "grid_btc = {\n",
    "    'btc__n_estimators': [150],\n",
    "#     'btc__max_depth': [None,1,5,10,15], \n",
    "#     'btc__min_samples_split': [5,6,7,8],\n",
    "}\n",
    "gs_btc = GridSearchCV(pipe_btc, \n",
    "                         param_grid= grid_btc,\n",
    "                        )\n",
    "gs_btc.fit(X_train,y_train)\n",
    "print(f'Train score: {gs_btc.score(X_train,y_train)}')\n",
    "print(f'Test score: {gs_btc.score(X_test,y_test)}')\n",
    "\n",
    "gs_btc.best_score_, gs_btc.best_params_"
   ]
  },
  {
   "cell_type": "code",
   "execution_count": 42,
   "id": "a94a8ba6",
   "metadata": {},
   "outputs": [],
   "source": [
    "# pipe_btc.get_params()"
   ]
  },
  {
   "cell_type": "markdown",
   "id": "d37b7e90",
   "metadata": {},
   "source": [
    "### Random Forest"
   ]
  },
  {
   "cell_type": "code",
   "execution_count": 43,
   "id": "6033f7fd",
   "metadata": {},
   "outputs": [
    {
     "name": "stdout",
     "output_type": "stream",
     "text": [
      "Train score: 0.9371713630848052\n",
      "Test score: 0.8936514355034372\n"
     ]
    },
    {
     "data": {
      "text/plain": [
       "(0.8868829665226565, {'rfc__max_depth': 16, 'rfc__n_estimators': 200})"
      ]
     },
     "execution_count": 43,
     "metadata": {},
     "output_type": "execute_result"
    }
   ],
   "source": [
    "from sklearn.ensemble import RandomForestClassifier\n",
    "# rfc = RandomForestClassifier()\n",
    "\n",
    "pipe_rfc = Pipeline([\n",
    "    ('ss',StandardScaler()),\n",
    "    ('rfc',RandomForestClassifier(max_depth=10, n_estimators=200) )\n",
    "     ])\n",
    "\n",
    "grid_rfc = {\n",
    "    'rfc__n_estimators': [100,150,200],\n",
    "    'rfc__max_depth': [6,8,10,12,14,16],\n",
    "}\n",
    "gs_rfc = GridSearchCV(pipe_rfc, \n",
    "                         param_grid= grid_rfc,\n",
    "                        )\n",
    "gs_rfc.fit(X_train,y_train)\n",
    "print(f'Train score: {gs_rfc.score(X_train,y_train)}')\n",
    "print(f'Test score: {gs_rfc.score(X_test,y_test)}')\n",
    "\n",
    "gs_rfc.best_score_, gs_rfc.best_params_ #cvs.832 {'rfc__max_depth': 10, 'rfc__n_estimators': 200})\n"
   ]
  },
  {
   "cell_type": "code",
   "execution_count": 44,
   "id": "628d513f",
   "metadata": {},
   "outputs": [],
   "source": [
    "# pipe_rfc.get_params()"
   ]
  },
  {
   "cell_type": "markdown",
   "id": "2c2cc921",
   "metadata": {},
   "source": [
    "### AdaBoost Logreg"
   ]
  },
  {
   "cell_type": "code",
   "execution_count": 45,
   "id": "56ae2547",
   "metadata": {},
   "outputs": [
    {
     "name": "stdout",
     "output_type": "stream",
     "text": [
      "Train score: 0.805446946204665\n",
      "Test score: 0.8091386979377274\n"
     ]
    },
    {
     "data": {
      "text/plain": [
       "(0.8047756878040978,\n",
       " {'ada_logreg__learning_rate': 0.9, 'ada_logreg__n_estimators': 100})"
      ]
     },
     "execution_count": 45,
     "metadata": {},
     "output_type": "execute_result"
    }
   ],
   "source": [
    "from sklearn.ensemble import AdaBoostClassifier\n",
    "# ada_logreg = AdaBoostClassifier(base_estimator=LogisticRegression())\n",
    "\n",
    "pipe_ada_logreg = Pipeline([\n",
    "    ('ss',StandardScaler()),\n",
    "    ('ada_logreg', AdaBoostClassifier(base_estimator=LogisticRegression(),\n",
    "                                      learning_rate=1.1,n_estimators = 10),\n",
    "    )\n",
    "     ])\n",
    "\n",
    "grid_ada_logreg = {\n",
    "'ada_logreg__learning_rate': [0.9,1.0,1.1],\n",
    " 'ada_logreg__n_estimators': [10,50,100],\n",
    "}\n",
    "gs_ada_logreg = GridSearchCV(pipe_ada_logreg, \n",
    "                         param_grid= grid_ada_logreg,\n",
    "                        )\n",
    "gs_ada_logreg.fit(X_train,y_train)\n",
    "print(f'Train score: {gs_ada_logreg.score(X_train,y_train)}')\n",
    "print(f'Test score: {gs_ada_logreg.score(X_test,y_test)}')\n",
    "\n",
    "gs_ada_logreg.best_score_, gs_ada_logreg.best_params_ # 0.8296472557343492"
   ]
  },
  {
   "cell_type": "code",
   "execution_count": 46,
   "id": "707d7b57",
   "metadata": {},
   "outputs": [],
   "source": [
    "# pipe_ada_logreg.get_params()"
   ]
  },
  {
   "cell_type": "markdown",
   "id": "d2959537",
   "metadata": {},
   "source": [
    "### AdaBoost Decision Tree"
   ]
  },
  {
   "cell_type": "code",
   "execution_count": 47,
   "id": "53694090",
   "metadata": {},
   "outputs": [
    {
     "name": "stdout",
     "output_type": "stream",
     "text": [
      "Train score: 0.9897532695159769\n",
      "Test score: 0.9260008087343308\n"
     ]
    },
    {
     "data": {
      "text/plain": [
       "(0.8991514795717139,\n",
       " {'ada_tree__learning_rate': 1.0, 'ada_tree__n_estimators': 10})"
      ]
     },
     "execution_count": 47,
     "metadata": {},
     "output_type": "execute_result"
    }
   ],
   "source": [
    "from sklearn.ensemble import AdaBoostClassifier\n",
    "# ada_tree = AdaBoostClassifier(base_estimator=DecisionTreeClassifier())\n",
    "pipe_ada_tree = Pipeline([\n",
    "    ('ss',StandardScaler()),\n",
    "    ('ada_tree', AdaBoostClassifier(base_estimator=DecisionTreeClassifier(),learning_rate =0.9,n_estimators=100) )\n",
    "     ])\n",
    "\n",
    "grid_ada_tree = {\n",
    "'ada_tree__learning_rate': [0.9,1.0,1.1],\n",
    " 'ada_tree__n_estimators': [10,50,100],\n",
    "}\n",
    "gs_ada_tree = GridSearchCV(pipe_ada_tree, \n",
    "                         param_grid= grid_ada_tree,\n",
    "                        )\n",
    "gs_ada_tree.fit(X_train,y_train)\n",
    "print(f'Train score: {gs_ada_tree.score(X_train,y_train)}')\n",
    "print(f'Test score: {gs_ada_tree.score(X_test,y_test)}')\n",
    "\n",
    "gs_ada_tree.best_score_, gs_ada_tree.best_params_\n"
   ]
  },
  {
   "cell_type": "markdown",
   "id": "920403cb",
   "metadata": {},
   "source": [
    "# Stack the best model from each model class"
   ]
  },
  {
   "cell_type": "code",
   "execution_count": 48,
   "id": "302955a6",
   "metadata": {},
   "outputs": [],
   "source": [
    "from sklearn.ensemble import StackingClassifier"
   ]
  },
  {
   "cell_type": "code",
   "execution_count": 54,
   "id": "b89da565",
   "metadata": {},
   "outputs": [
    {
     "data": {
      "text/plain": [
       "0.9041392747635829"
      ]
     },
     "execution_count": 54,
     "metadata": {},
     "output_type": "execute_result"
    }
   ],
   "source": [
    "level1_models = [\n",
    "#     ('pipe_logreg', Pipeline([\n",
    "#             ('ss',StandardScaler()),\n",
    "#             ('logreg',LogisticRegression(penalty='l2' , max_iter=10**5) )])\n",
    "#             ), #end pipe_logreg\n",
    "    ('pipe_knn', Pipeline([\n",
    "        ('ss',StandardScaler()),\n",
    "        ('knn' , KNeighborsClassifier(n_neighbors=10,weights='uniform') )] )\n",
    "            ), # end pipe_knn\n",
    "    ('pipe_dtc' , Pipeline([\n",
    "        ('ss',StandardScaler()),\n",
    "        ('dtc',DecisionTreeClassifier(max_depth=5) )])\n",
    "            ), # end pipe_dtc\n",
    "    ('pipe_btc',Pipeline([\n",
    "        ('ss',StandardScaler()),\n",
    "        ('btc',BaggingClassifier(n_estimators=150) )\n",
    "         ])\n",
    "            ), #end bag\n",
    "    ('pipe_rfc', Pipeline([\n",
    "        ('ss',StandardScaler()),\n",
    "        ('rfc',RandomForestClassifier(max_depth=10, n_estimators=200) )\n",
    "         ])\n",
    "            ), # end rfc \n",
    "#     ('pipe_ada_logreg' , Pipeline([\n",
    "#         ('ss',StandardScaler()),\n",
    "#         ('ada_logreg', AdaBoostClassifier(base_estimator=LogisticRegression(),\n",
    "#                                             learning_rate=1.1, n_estimators = 10))\n",
    "#          ])\n",
    "#         ), #end adalog\n",
    "    ('pipe_ada_tree' , Pipeline([\n",
    "        ('ss',StandardScaler()),\n",
    "        ('ada_tree', AdaBoostClassifier(base_estimator=DecisionTreeClassifier(),learning_rate =0.9,n_estimators=100) )\n",
    "         ]) #end adatree\n",
    ")\n",
    "                ]\n",
    "     \n",
    "\n",
    "stack = StackingClassifier(estimators=level1_models,\n",
    "                         final_estimator=LogisticRegression())\n",
    "\n",
    "cross_val_score(stack,X_train, y_train).mean() #0.9010390899193557"
   ]
  },
  {
   "cell_type": "code",
   "execution_count": 61,
   "id": "62570310",
   "metadata": {},
   "outputs": [],
   "source": [
    "stack.fit(X_train,y_train);"
   ]
  },
  {
   "cell_type": "code",
   "execution_count": 62,
   "id": "396ff72a",
   "metadata": {},
   "outputs": [
    {
     "data": {
      "text/plain": [
       "(0.9888094917082378, 0.9371713630848052)"
      ]
     },
     "execution_count": 62,
     "metadata": {},
     "output_type": "execute_result"
    }
   ],
   "source": [
    "stack.score(X_train,y_train), gs_rfc.score(X_train,y_train)"
   ]
  },
  {
   "cell_type": "code",
   "execution_count": 63,
   "id": "5f2c60d5",
   "metadata": {},
   "outputs": [
    {
     "data": {
      "text/plain": [
       "(0.9296401132228063, 0.8936514355034372)"
      ]
     },
     "execution_count": 63,
     "metadata": {},
     "output_type": "execute_result"
    }
   ],
   "source": [
    "stack.score(X_test,y_test),gs_rfc.score(X_test,y_test)"
   ]
  },
  {
   "cell_type": "code",
   "execution_count": 72,
   "id": "ebe033a7",
   "metadata": {},
   "outputs": [
    {
     "data": {
      "text/plain": [
       "Int64Index([    0,     1,     2,     3,     4,     5,     6,     7,     8,\n",
       "                9,\n",
       "            ...\n",
       "            16271, 16272, 16273, 16274, 16275, 16276, 16277, 16278, 16279,\n",
       "            16280],\n",
       "           dtype='int64', length=16281)"
      ]
     },
     "execution_count": 72,
     "metadata": {},
     "output_type": "execute_result"
    }
   ],
   "source": [
    "submission_data.index"
   ]
  },
  {
   "cell_type": "code",
   "execution_count": 81,
   "id": "34798ae8",
   "metadata": {},
   "outputs": [],
   "source": [
    "#sub_d = submission_data.drop(columns=['wage'])"
   ]
  },
  {
   "cell_type": "code",
   "execution_count": 82,
   "id": "06f70be2",
   "metadata": {},
   "outputs": [],
   "source": [
    "preds = stack.predict(submission_data.drop(columns=['wage']))\n",
    "probs = stack.predict_proba(submission_data.drop(columns=['wage']))"
   ]
  },
  {
   "cell_type": "code",
   "execution_count": 88,
   "id": "2d29c238",
   "metadata": {},
   "outputs": [],
   "source": [
    "submission = pd.DataFrame(index = submission_data.index, \n",
    "                          columns=['preds','wage'])\n",
    "submission['preds'] = preds\n",
    "submission['wage'] = probs"
   ]
  },
  {
   "cell_type": "code",
   "execution_count": 89,
   "id": "889f2e86",
   "metadata": {},
   "outputs": [],
   "source": [
    "submission.to_csv('submission.csv', index=False)"
   ]
  },
  {
   "cell_type": "code",
   "execution_count": 90,
   "id": "8efdc01c",
   "metadata": {},
   "outputs": [
    {
     "data": {
      "text/html": [
       "<div>\n",
       "<style scoped>\n",
       "    .dataframe tbody tr th:only-of-type {\n",
       "        vertical-align: middle;\n",
       "    }\n",
       "\n",
       "    .dataframe tbody tr th {\n",
       "        vertical-align: top;\n",
       "    }\n",
       "\n",
       "    .dataframe thead th {\n",
       "        text-align: right;\n",
       "    }\n",
       "</style>\n",
       "<table border=\"1\" class=\"dataframe\">\n",
       "  <thead>\n",
       "    <tr style=\"text-align: right;\">\n",
       "      <th></th>\n",
       "      <th>preds</th>\n",
       "      <th>wage</th>\n",
       "    </tr>\n",
       "  </thead>\n",
       "  <tbody>\n",
       "    <tr>\n",
       "      <th>0</th>\n",
       "      <td>0.0</td>\n",
       "      <td>0.991916</td>\n",
       "    </tr>\n",
       "    <tr>\n",
       "      <th>1</th>\n",
       "      <td>0.0</td>\n",
       "      <td>0.960724</td>\n",
       "    </tr>\n",
       "    <tr>\n",
       "      <th>2</th>\n",
       "      <td>0.0</td>\n",
       "      <td>0.830154</td>\n",
       "    </tr>\n",
       "    <tr>\n",
       "      <th>3</th>\n",
       "      <td>1.0</td>\n",
       "      <td>0.094589</td>\n",
       "    </tr>\n",
       "    <tr>\n",
       "      <th>4</th>\n",
       "      <td>0.0</td>\n",
       "      <td>0.992076</td>\n",
       "    </tr>\n",
       "  </tbody>\n",
       "</table>\n",
       "</div>"
      ],
      "text/plain": [
       "   preds      wage\n",
       "0    0.0  0.991916\n",
       "1    0.0  0.960724\n",
       "2    0.0  0.830154\n",
       "3    1.0  0.094589\n",
       "4    0.0  0.992076"
      ]
     },
     "execution_count": 90,
     "metadata": {},
     "output_type": "execute_result"
    }
   ],
   "source": [
    "submission.head(5)"
   ]
  },
  {
   "cell_type": "markdown",
   "id": "24307536",
   "metadata": {},
   "source": [
    "# F1 scores"
   ]
  },
  {
   "cell_type": "code",
   "execution_count": 65,
   "id": "4d184c73",
   "metadata": {},
   "outputs": [],
   "source": [
    "from sklearn.metrics import f1_score"
   ]
  },
  {
   "cell_type": "code",
   "execution_count": 66,
   "id": "30717b52",
   "metadata": {},
   "outputs": [
    {
     "data": {
      "text/plain": [
       "0.9316575019638649"
      ]
     },
     "execution_count": 66,
     "metadata": {},
     "output_type": "execute_result"
    }
   ],
   "source": [
    "f1_score(y_test,preds) "
   ]
  },
  {
   "cell_type": "markdown",
   "id": "2f7513d3",
   "metadata": {},
   "source": [
    "# Confusion Matrix "
   ]
  },
  {
   "cell_type": "code",
   "execution_count": 67,
   "id": "ba3f3d11",
   "metadata": {},
   "outputs": [
    {
     "data": {
      "image/png": "[encoded data removed]",
      "text/plain": [
       "<Figure size 432x288 with 1 Axes>"
      ]
     },
     "metadata": {
      "needs_background": "light"
     },
     "output_type": "display_data"
    }
   ],
   "source": [
    "from sklearn.metrics import plot_confusion_matrix \n",
    "\n",
    "plot_confusion_matrix(stack, X_test,y_test, cmap='ocean', \n",
    "                      display_labels=['<= $50k','> $50k'],\n",
    "                     colorbar=False); "
   ]
  },
  {
   "cell_type": "code",
   "execution_count": 69,
   "id": "2fd39ec5",
   "metadata": {},
   "outputs": [
    {
     "data": {
      "image/png": "[encoded data removed]",
      "text/plain": [
       "<Figure size 432x288 with 1 Axes>"
      ]
     },
     "metadata": {
      "needs_background": "light"
     },
     "output_type": "display_data"
    }
   ],
   "source": [
    "from sklearn import metrics\n",
    "metrics.plot_roc_curve(stack, X_test,y_test)\n",
    "plt.plot([0,1],[0,1], color='r', label='Baseline')\n",
    "# add a legend\n",
    "plt.legend();"
   ]
  },
  {
   "cell_type": "code",
   "execution_count": 70,
   "id": "3e3633da",
   "metadata": {},
   "outputs": [
    {
     "data": {
      "text/plain": [
       "0.9787426778954196"
      ]
     },
     "execution_count": 70,
     "metadata": {},
     "output_type": "execute_result"
    }
   ],
   "source": [
    "probs = stack.predict_proba(X_test)[:,1]\n",
    "metrics.roc_auc_score(y_test,probs)"
   ]
  },
  {
   "cell_type": "code",
   "execution_count": 71,
   "id": "88d02636",
   "metadata": {},
   "outputs": [
    {
     "data": {
      "text/plain": [
       "array([0.00751275, 0.01041139, 0.01013099, ..., 0.87191431, 0.96465201,\n",
       "       0.90435881])"
      ]
     },
     "execution_count": 71,
     "metadata": {},
     "output_type": "execute_result"
    }
   ],
   "source": [
    "submission_data\n",
    "\n",
    "probs"
   ]
  },
  {
   "cell_type": "code",
   "execution_count": null,
   "id": "805edc8a",
   "metadata": {},
   "outputs": [],
   "source": [
    "probs.to_csv('probs.csv', index=False)"
   ]
  }
 ],
 "metadata": {
  "kernelspec": {
   "display_name": "Python 3 (ipykernel)",
   "language": "python",
   "name": "python3"
  },
  "language_info": {
   "codemirror_mode": {
    "name": "ipython",
    "version": 3
   },
   "file_extension": ".py",
   "mimetype": "text/x-python",
   "name": "python",
   "nbconvert_exporter": "python",
   "pygments_lexer": "ipython3",
   "version": "3.9.7"
  }
 },
 "nbformat": 4,
 "nbformat_minor": 5
}
