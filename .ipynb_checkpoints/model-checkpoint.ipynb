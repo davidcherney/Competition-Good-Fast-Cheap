{
 "cells": [
  {
   "cell_type": "code",
   "execution_count": 173,
   "id": "5b499343-80ba-4866-bc26-534e3995b0fa",
   "metadata": {},
   "outputs": [],
   "source": [
    "import numpy as np\n",
    "import pandas as pd\n",
    "import matplotlib.pyplot as plt\n",
    "import seaborn as sns"
   ]
  },
  {
   "cell_type": "code",
   "execution_count": 174,
   "id": "3aba515b",
   "metadata": {},
   "outputs": [
    {
     "data": {
      "text/plain": [
       "(6513, 14)"
      ]
     },
     "execution_count": 174,
     "metadata": {},
     "output_type": "execute_result"
    }
   ],
   "source": [
    "data = pd.read_csv('data/cheap_train_sample.csv')\n",
    "data.shape"
   ]
  },
  {
   "cell_type": "code",
   "execution_count": 175,
   "id": "4c91cb8b",
   "metadata": {},
   "outputs": [
    {
     "data": {
      "text/plain": [
       "(16281, 13)"
      ]
     },
     "execution_count": 175,
     "metadata": {},
     "output_type": "execute_result"
    }
   ],
   "source": [
    "test_data = pd.read_csv('data/test_data.csv') # from which to make predictions for the competition\n",
    "test_data.shape"
   ]
  },
  {
   "cell_type": "markdown",
   "id": "7cfce614-a981-4eba-ae73-48747523daa0",
   "metadata": {},
   "source": [
    "# 1) Pre-process data"
   ]
  },
  {
   "cell_type": "markdown",
   "id": "f8628c02-34c3-4c8c-ba8a-a9d99a6c65e7",
   "metadata": {},
   "source": [
    "Concatenate train and test data so that that two are pre-processed the same way. "
   ]
  },
  {
   "cell_type": "code",
   "execution_count": 176,
   "id": "3977f093",
   "metadata": {},
   "outputs": [],
   "source": [
    "concat_train_test = pd.concat([data,test_data])"
   ]
  },
  {
   "cell_type": "markdown",
   "id": "ddc2fb9f-67ee-4e30-8c23-713d05a8b647",
   "metadata": {},
   "source": [
    "## 1.1) Binarize Target Feature"
   ]
  },
  {
   "cell_type": "code",
   "execution_count": 177,
   "id": "be7a617b-d024-47bd-808c-59ef2713e675",
   "metadata": {},
   "outputs": [
    {
     "data": {
      "text/plain": [
       "array([ 0.,  1., nan])"
      ]
     },
     "execution_count": 177,
     "metadata": {},
     "output_type": "execute_result"
    }
   ],
   "source": [
    "# the .replace method below does not change the vaues from the test set (NaNs)\n",
    "concat_train_test['wage'] = concat_train_test['wage'].replace({' <=50K':0, ' >50K':1})\n",
    "# make sure the new values are 0,1, and NaN (for test set)\n",
    "concat_train_test['wage'].unique()"
   ]
  },
  {
   "cell_type": "markdown",
   "id": "396559e7",
   "metadata": {},
   "source": [
    "## 1.2) Resolve 'never_worked' with 'hours_per_week'\n",
    "\n",
    "For all rows with `work-class` in  [ 'never worked' ,'without pay'],  set `hours_per_week` to 0.\n"
   ]
  },
  {
   "cell_type": "code",
   "execution_count": 178,
   "id": "c34bdfc5-9163-47ec-a489-811b1d4b6eb4",
   "metadata": {},
   "outputs": [
    {
     "data": {
      "text/html": [
       "<div>\n",
       "<style scoped>\n",
       "    .dataframe tbody tr th:only-of-type {\n",
       "        vertical-align: middle;\n",
       "    }\n",
       "\n",
       "    .dataframe tbody tr th {\n",
       "        vertical-align: top;\n",
       "    }\n",
       "\n",
       "    .dataframe thead th {\n",
       "        text-align: right;\n",
       "    }\n",
       "</style>\n",
       "<table border=\"1\" class=\"dataframe\">\n",
       "  <thead>\n",
       "    <tr style=\"text-align: right;\">\n",
       "      <th></th>\n",
       "      <th>hours-per-week</th>\n",
       "    </tr>\n",
       "  </thead>\n",
       "  <tbody>\n",
       "    <tr>\n",
       "      <th>2019</th>\n",
       "      <td>0</td>\n",
       "    </tr>\n",
       "    <tr>\n",
       "      <th>4124</th>\n",
       "      <td>0</td>\n",
       "    </tr>\n",
       "    <tr>\n",
       "      <th>4167</th>\n",
       "      <td>0</td>\n",
       "    </tr>\n",
       "    <tr>\n",
       "      <th>5944</th>\n",
       "      <td>0</td>\n",
       "    </tr>\n",
       "    <tr>\n",
       "      <th>2957</th>\n",
       "      <td>0</td>\n",
       "    </tr>\n",
       "    <tr>\n",
       "      <th>3177</th>\n",
       "      <td>0</td>\n",
       "    </tr>\n",
       "    <tr>\n",
       "      <th>6466</th>\n",
       "      <td>0</td>\n",
       "    </tr>\n",
       "    <tr>\n",
       "      <th>8785</th>\n",
       "      <td>0</td>\n",
       "    </tr>\n",
       "    <tr>\n",
       "      <th>8903</th>\n",
       "      <td>0</td>\n",
       "    </tr>\n",
       "    <tr>\n",
       "      <th>10647</th>\n",
       "      <td>0</td>\n",
       "    </tr>\n",
       "    <tr>\n",
       "      <th>11607</th>\n",
       "      <td>0</td>\n",
       "    </tr>\n",
       "    <tr>\n",
       "      <th>13836</th>\n",
       "      <td>0</td>\n",
       "    </tr>\n",
       "    <tr>\n",
       "      <th>13898</th>\n",
       "      <td>0</td>\n",
       "    </tr>\n",
       "    <tr>\n",
       "      <th>14034</th>\n",
       "      <td>0</td>\n",
       "    </tr>\n",
       "  </tbody>\n",
       "</table>\n",
       "</div>"
      ],
      "text/plain": [
       "       hours-per-week\n",
       "2019                0\n",
       "4124                0\n",
       "4167                0\n",
       "5944                0\n",
       "2957                0\n",
       "3177                0\n",
       "6466                0\n",
       "8785                0\n",
       "8903                0\n",
       "10647               0\n",
       "11607               0\n",
       "13836               0\n",
       "13898               0\n",
       "14034               0"
      ]
     },
     "execution_count": 178,
     "metadata": {},
     "output_type": "execute_result"
    }
   ],
   "source": [
    "# create a filter disjunction\n",
    "filter1 = (concat_train_test['workclass']==' Without-pay')\n",
    "filter2 = (concat_train_test['workclass']==' Never-worked'  )\n",
    "filter_disjunction = filter1 | filter2\n",
    "\n",
    "#write zeros\n",
    "concat_train_test.loc[filter_disjunction,['hours-per-week']] = 0\n",
    "\n",
    "# make sure zeros were written\n",
    "concat_train_test.loc[filter_disjunction,['hours-per-week']]"
   ]
  },
  {
   "cell_type": "markdown",
   "id": "e9d897cb",
   "metadata": {},
   "source": [
    "## 1.3) Dummy Features"
   ]
  },
  {
   "cell_type": "code",
   "execution_count": 179,
   "id": "f039913d",
   "metadata": {},
   "outputs": [],
   "source": [
    "dumb_feats = ['workclass','marital-status','occupation','sex']\n",
    "concat_train_test = pd.get_dummies(concat_train_test, \n",
    "               columns = dumb_feats, \n",
    "               drop_first=True\n",
    "              )"
   ]
  },
  {
   "cell_type": "code",
   "execution_count": 180,
   "id": "dd7e15ba",
   "metadata": {},
   "outputs": [
    {
     "data": {
      "text/html": [
       "<div>\n",
       "<style scoped>\n",
       "    .dataframe tbody tr th:only-of-type {\n",
       "        vertical-align: middle;\n",
       "    }\n",
       "\n",
       "    .dataframe tbody tr th {\n",
       "        vertical-align: top;\n",
       "    }\n",
       "\n",
       "    .dataframe thead th {\n",
       "        text-align: right;\n",
       "    }\n",
       "</style>\n",
       "<table border=\"1\" class=\"dataframe\">\n",
       "  <thead>\n",
       "    <tr style=\"text-align: right;\">\n",
       "      <th></th>\n",
       "      <th>0</th>\n",
       "      <th>1</th>\n",
       "      <th>2</th>\n",
       "      <th>3</th>\n",
       "      <th>4</th>\n",
       "    </tr>\n",
       "  </thead>\n",
       "  <tbody>\n",
       "    <tr>\n",
       "      <th>age</th>\n",
       "      <td>56</td>\n",
       "      <td>28</td>\n",
       "      <td>33</td>\n",
       "      <td>26</td>\n",
       "      <td>40</td>\n",
       "    </tr>\n",
       "    <tr>\n",
       "      <th>fnlwgt</th>\n",
       "      <td>346033</td>\n",
       "      <td>96226</td>\n",
       "      <td>251120</td>\n",
       "      <td>178140</td>\n",
       "      <td>56795</td>\n",
       "    </tr>\n",
       "    <tr>\n",
       "      <th>education</th>\n",
       "      <td>9th</td>\n",
       "      <td>HS-grad</td>\n",
       "      <td>Bachelors</td>\n",
       "      <td>Bachelors</td>\n",
       "      <td>Masters</td>\n",
       "    </tr>\n",
       "    <tr>\n",
       "      <th>education-num</th>\n",
       "      <td>5</td>\n",
       "      <td>9</td>\n",
       "      <td>13</td>\n",
       "      <td>13</td>\n",
       "      <td>14</td>\n",
       "    </tr>\n",
       "    <tr>\n",
       "      <th>relationship</th>\n",
       "      <td>Not-in-family</td>\n",
       "      <td>Husband</td>\n",
       "      <td>Husband</td>\n",
       "      <td>Husband</td>\n",
       "      <td>Not-in-family</td>\n",
       "    </tr>\n",
       "    <tr>\n",
       "      <th>capital-gain</th>\n",
       "      <td>0</td>\n",
       "      <td>0</td>\n",
       "      <td>7688</td>\n",
       "      <td>0</td>\n",
       "      <td>14084</td>\n",
       "    </tr>\n",
       "    <tr>\n",
       "      <th>capital-loss</th>\n",
       "      <td>0</td>\n",
       "      <td>0</td>\n",
       "      <td>0</td>\n",
       "      <td>0</td>\n",
       "      <td>0</td>\n",
       "    </tr>\n",
       "    <tr>\n",
       "      <th>hours-per-week</th>\n",
       "      <td>40</td>\n",
       "      <td>45</td>\n",
       "      <td>50</td>\n",
       "      <td>45</td>\n",
       "      <td>55</td>\n",
       "    </tr>\n",
       "    <tr>\n",
       "      <th>native-country</th>\n",
       "      <td>United-States</td>\n",
       "      <td>United-States</td>\n",
       "      <td>United-States</td>\n",
       "      <td>United-States</td>\n",
       "      <td>United-States</td>\n",
       "    </tr>\n",
       "    <tr>\n",
       "      <th>wage</th>\n",
       "      <td>0.0</td>\n",
       "      <td>0.0</td>\n",
       "      <td>1.0</td>\n",
       "      <td>1.0</td>\n",
       "      <td>1.0</td>\n",
       "    </tr>\n",
       "    <tr>\n",
       "      <th>workclass_ Federal-gov</th>\n",
       "      <td>0</td>\n",
       "      <td>0</td>\n",
       "      <td>0</td>\n",
       "      <td>0</td>\n",
       "      <td>1</td>\n",
       "    </tr>\n",
       "    <tr>\n",
       "      <th>workclass_ Local-gov</th>\n",
       "      <td>0</td>\n",
       "      <td>0</td>\n",
       "      <td>0</td>\n",
       "      <td>0</td>\n",
       "      <td>0</td>\n",
       "    </tr>\n",
       "    <tr>\n",
       "      <th>workclass_ Never-worked</th>\n",
       "      <td>0</td>\n",
       "      <td>0</td>\n",
       "      <td>0</td>\n",
       "      <td>0</td>\n",
       "      <td>0</td>\n",
       "    </tr>\n",
       "    <tr>\n",
       "      <th>workclass_ Private</th>\n",
       "      <td>1</td>\n",
       "      <td>1</td>\n",
       "      <td>1</td>\n",
       "      <td>1</td>\n",
       "      <td>0</td>\n",
       "    </tr>\n",
       "    <tr>\n",
       "      <th>workclass_ Self-emp-inc</th>\n",
       "      <td>0</td>\n",
       "      <td>0</td>\n",
       "      <td>0</td>\n",
       "      <td>0</td>\n",
       "      <td>0</td>\n",
       "    </tr>\n",
       "    <tr>\n",
       "      <th>workclass_ Self-emp-not-inc</th>\n",
       "      <td>0</td>\n",
       "      <td>0</td>\n",
       "      <td>0</td>\n",
       "      <td>0</td>\n",
       "      <td>0</td>\n",
       "    </tr>\n",
       "    <tr>\n",
       "      <th>workclass_ State-gov</th>\n",
       "      <td>0</td>\n",
       "      <td>0</td>\n",
       "      <td>0</td>\n",
       "      <td>0</td>\n",
       "      <td>0</td>\n",
       "    </tr>\n",
       "    <tr>\n",
       "      <th>workclass_ Without-pay</th>\n",
       "      <td>0</td>\n",
       "      <td>0</td>\n",
       "      <td>0</td>\n",
       "      <td>0</td>\n",
       "      <td>0</td>\n",
       "    </tr>\n",
       "    <tr>\n",
       "      <th>marital-status_ Married-AF-spouse</th>\n",
       "      <td>0</td>\n",
       "      <td>0</td>\n",
       "      <td>0</td>\n",
       "      <td>0</td>\n",
       "      <td>0</td>\n",
       "    </tr>\n",
       "    <tr>\n",
       "      <th>marital-status_ Married-civ-spouse</th>\n",
       "      <td>0</td>\n",
       "      <td>1</td>\n",
       "      <td>1</td>\n",
       "      <td>1</td>\n",
       "      <td>0</td>\n",
       "    </tr>\n",
       "    <tr>\n",
       "      <th>marital-status_ Married-spouse-absent</th>\n",
       "      <td>0</td>\n",
       "      <td>0</td>\n",
       "      <td>0</td>\n",
       "      <td>0</td>\n",
       "      <td>0</td>\n",
       "    </tr>\n",
       "    <tr>\n",
       "      <th>marital-status_ Never-married</th>\n",
       "      <td>0</td>\n",
       "      <td>0</td>\n",
       "      <td>0</td>\n",
       "      <td>0</td>\n",
       "      <td>1</td>\n",
       "    </tr>\n",
       "    <tr>\n",
       "      <th>marital-status_ Separated</th>\n",
       "      <td>0</td>\n",
       "      <td>0</td>\n",
       "      <td>0</td>\n",
       "      <td>0</td>\n",
       "      <td>0</td>\n",
       "    </tr>\n",
       "    <tr>\n",
       "      <th>marital-status_ Widowed</th>\n",
       "      <td>0</td>\n",
       "      <td>0</td>\n",
       "      <td>0</td>\n",
       "      <td>0</td>\n",
       "      <td>0</td>\n",
       "    </tr>\n",
       "    <tr>\n",
       "      <th>occupation_ Adm-clerical</th>\n",
       "      <td>1</td>\n",
       "      <td>0</td>\n",
       "      <td>0</td>\n",
       "      <td>0</td>\n",
       "      <td>0</td>\n",
       "    </tr>\n",
       "    <tr>\n",
       "      <th>occupation_ Armed-Forces</th>\n",
       "      <td>0</td>\n",
       "      <td>0</td>\n",
       "      <td>0</td>\n",
       "      <td>0</td>\n",
       "      <td>0</td>\n",
       "    </tr>\n",
       "    <tr>\n",
       "      <th>occupation_ Craft-repair</th>\n",
       "      <td>0</td>\n",
       "      <td>1</td>\n",
       "      <td>0</td>\n",
       "      <td>0</td>\n",
       "      <td>0</td>\n",
       "    </tr>\n",
       "    <tr>\n",
       "      <th>occupation_ Exec-managerial</th>\n",
       "      <td>0</td>\n",
       "      <td>0</td>\n",
       "      <td>0</td>\n",
       "      <td>0</td>\n",
       "      <td>1</td>\n",
       "    </tr>\n",
       "    <tr>\n",
       "      <th>occupation_ Farming-fishing</th>\n",
       "      <td>0</td>\n",
       "      <td>0</td>\n",
       "      <td>0</td>\n",
       "      <td>0</td>\n",
       "      <td>0</td>\n",
       "    </tr>\n",
       "    <tr>\n",
       "      <th>occupation_ Handlers-cleaners</th>\n",
       "      <td>0</td>\n",
       "      <td>0</td>\n",
       "      <td>0</td>\n",
       "      <td>0</td>\n",
       "      <td>0</td>\n",
       "    </tr>\n",
       "    <tr>\n",
       "      <th>occupation_ Machine-op-inspct</th>\n",
       "      <td>0</td>\n",
       "      <td>0</td>\n",
       "      <td>0</td>\n",
       "      <td>0</td>\n",
       "      <td>0</td>\n",
       "    </tr>\n",
       "    <tr>\n",
       "      <th>occupation_ Other-service</th>\n",
       "      <td>0</td>\n",
       "      <td>0</td>\n",
       "      <td>0</td>\n",
       "      <td>1</td>\n",
       "      <td>0</td>\n",
       "    </tr>\n",
       "    <tr>\n",
       "      <th>occupation_ Priv-house-serv</th>\n",
       "      <td>0</td>\n",
       "      <td>0</td>\n",
       "      <td>0</td>\n",
       "      <td>0</td>\n",
       "      <td>0</td>\n",
       "    </tr>\n",
       "    <tr>\n",
       "      <th>occupation_ Prof-specialty</th>\n",
       "      <td>0</td>\n",
       "      <td>0</td>\n",
       "      <td>0</td>\n",
       "      <td>0</td>\n",
       "      <td>0</td>\n",
       "    </tr>\n",
       "    <tr>\n",
       "      <th>occupation_ Protective-serv</th>\n",
       "      <td>0</td>\n",
       "      <td>0</td>\n",
       "      <td>0</td>\n",
       "      <td>0</td>\n",
       "      <td>0</td>\n",
       "    </tr>\n",
       "    <tr>\n",
       "      <th>occupation_ Sales</th>\n",
       "      <td>0</td>\n",
       "      <td>0</td>\n",
       "      <td>1</td>\n",
       "      <td>0</td>\n",
       "      <td>0</td>\n",
       "    </tr>\n",
       "    <tr>\n",
       "      <th>occupation_ Tech-support</th>\n",
       "      <td>0</td>\n",
       "      <td>0</td>\n",
       "      <td>0</td>\n",
       "      <td>0</td>\n",
       "      <td>0</td>\n",
       "    </tr>\n",
       "    <tr>\n",
       "      <th>occupation_ Transport-moving</th>\n",
       "      <td>0</td>\n",
       "      <td>0</td>\n",
       "      <td>0</td>\n",
       "      <td>0</td>\n",
       "      <td>0</td>\n",
       "    </tr>\n",
       "    <tr>\n",
       "      <th>sex_ Male</th>\n",
       "      <td>1</td>\n",
       "      <td>1</td>\n",
       "      <td>1</td>\n",
       "      <td>1</td>\n",
       "      <td>0</td>\n",
       "    </tr>\n",
       "  </tbody>\n",
       "</table>\n",
       "</div>"
      ],
      "text/plain": [
       "                                                    0               1  \\\n",
       "age                                                56              28   \n",
       "fnlwgt                                         346033           96226   \n",
       "education                                         9th         HS-grad   \n",
       "education-num                                       5               9   \n",
       "relationship                            Not-in-family         Husband   \n",
       "capital-gain                                        0               0   \n",
       "capital-loss                                        0               0   \n",
       "hours-per-week                                     40              45   \n",
       "native-country                          United-States   United-States   \n",
       "wage                                              0.0             0.0   \n",
       "workclass_ Federal-gov                              0               0   \n",
       "workclass_ Local-gov                                0               0   \n",
       "workclass_ Never-worked                             0               0   \n",
       "workclass_ Private                                  1               1   \n",
       "workclass_ Self-emp-inc                             0               0   \n",
       "workclass_ Self-emp-not-inc                         0               0   \n",
       "workclass_ State-gov                                0               0   \n",
       "workclass_ Without-pay                              0               0   \n",
       "marital-status_ Married-AF-spouse                   0               0   \n",
       "marital-status_ Married-civ-spouse                  0               1   \n",
       "marital-status_ Married-spouse-absent               0               0   \n",
       "marital-status_ Never-married                       0               0   \n",
       "marital-status_ Separated                           0               0   \n",
       "marital-status_ Widowed                             0               0   \n",
       "occupation_ Adm-clerical                            1               0   \n",
       "occupation_ Armed-Forces                            0               0   \n",
       "occupation_ Craft-repair                            0               1   \n",
       "occupation_ Exec-managerial                         0               0   \n",
       "occupation_ Farming-fishing                         0               0   \n",
       "occupation_ Handlers-cleaners                       0               0   \n",
       "occupation_ Machine-op-inspct                       0               0   \n",
       "occupation_ Other-service                           0               0   \n",
       "occupation_ Priv-house-serv                         0               0   \n",
       "occupation_ Prof-specialty                          0               0   \n",
       "occupation_ Protective-serv                         0               0   \n",
       "occupation_ Sales                                   0               0   \n",
       "occupation_ Tech-support                            0               0   \n",
       "occupation_ Transport-moving                        0               0   \n",
       "sex_ Male                                           1               1   \n",
       "\n",
       "                                                    2               3  \\\n",
       "age                                                33              26   \n",
       "fnlwgt                                         251120          178140   \n",
       "education                                   Bachelors       Bachelors   \n",
       "education-num                                      13              13   \n",
       "relationship                                  Husband         Husband   \n",
       "capital-gain                                     7688               0   \n",
       "capital-loss                                        0               0   \n",
       "hours-per-week                                     50              45   \n",
       "native-country                          United-States   United-States   \n",
       "wage                                              1.0             1.0   \n",
       "workclass_ Federal-gov                              0               0   \n",
       "workclass_ Local-gov                                0               0   \n",
       "workclass_ Never-worked                             0               0   \n",
       "workclass_ Private                                  1               1   \n",
       "workclass_ Self-emp-inc                             0               0   \n",
       "workclass_ Self-emp-not-inc                         0               0   \n",
       "workclass_ State-gov                                0               0   \n",
       "workclass_ Without-pay                              0               0   \n",
       "marital-status_ Married-AF-spouse                   0               0   \n",
       "marital-status_ Married-civ-spouse                  1               1   \n",
       "marital-status_ Married-spouse-absent               0               0   \n",
       "marital-status_ Never-married                       0               0   \n",
       "marital-status_ Separated                           0               0   \n",
       "marital-status_ Widowed                             0               0   \n",
       "occupation_ Adm-clerical                            0               0   \n",
       "occupation_ Armed-Forces                            0               0   \n",
       "occupation_ Craft-repair                            0               0   \n",
       "occupation_ Exec-managerial                         0               0   \n",
       "occupation_ Farming-fishing                         0               0   \n",
       "occupation_ Handlers-cleaners                       0               0   \n",
       "occupation_ Machine-op-inspct                       0               0   \n",
       "occupation_ Other-service                           0               1   \n",
       "occupation_ Priv-house-serv                         0               0   \n",
       "occupation_ Prof-specialty                          0               0   \n",
       "occupation_ Protective-serv                         0               0   \n",
       "occupation_ Sales                                   1               0   \n",
       "occupation_ Tech-support                            0               0   \n",
       "occupation_ Transport-moving                        0               0   \n",
       "sex_ Male                                           1               1   \n",
       "\n",
       "                                                    4  \n",
       "age                                                40  \n",
       "fnlwgt                                          56795  \n",
       "education                                     Masters  \n",
       "education-num                                      14  \n",
       "relationship                            Not-in-family  \n",
       "capital-gain                                    14084  \n",
       "capital-loss                                        0  \n",
       "hours-per-week                                     55  \n",
       "native-country                          United-States  \n",
       "wage                                              1.0  \n",
       "workclass_ Federal-gov                              1  \n",
       "workclass_ Local-gov                                0  \n",
       "workclass_ Never-worked                             0  \n",
       "workclass_ Private                                  0  \n",
       "workclass_ Self-emp-inc                             0  \n",
       "workclass_ Self-emp-not-inc                         0  \n",
       "workclass_ State-gov                                0  \n",
       "workclass_ Without-pay                              0  \n",
       "marital-status_ Married-AF-spouse                   0  \n",
       "marital-status_ Married-civ-spouse                  0  \n",
       "marital-status_ Married-spouse-absent               0  \n",
       "marital-status_ Never-married                       1  \n",
       "marital-status_ Separated                           0  \n",
       "marital-status_ Widowed                             0  \n",
       "occupation_ Adm-clerical                            0  \n",
       "occupation_ Armed-Forces                            0  \n",
       "occupation_ Craft-repair                            0  \n",
       "occupation_ Exec-managerial                         1  \n",
       "occupation_ Farming-fishing                         0  \n",
       "occupation_ Handlers-cleaners                       0  \n",
       "occupation_ Machine-op-inspct                       0  \n",
       "occupation_ Other-service                           0  \n",
       "occupation_ Priv-house-serv                         0  \n",
       "occupation_ Prof-specialty                          0  \n",
       "occupation_ Protective-serv                         0  \n",
       "occupation_ Sales                                   0  \n",
       "occupation_ Tech-support                            0  \n",
       "occupation_ Transport-moving                        0  \n",
       "sex_ Male                                           0  "
      ]
     },
     "execution_count": 180,
     "metadata": {},
     "output_type": "execute_result"
    }
   ],
   "source": [
    "#view the new feature columns\n",
    "concat_train_test.head().T\n"
   ]
  },
  {
   "cell_type": "markdown",
   "id": "f212b246-a768-4d76-b3bd-40d81e309087",
   "metadata": {},
   "source": [
    "## 1.4) Engineer quadratic feature"
   ]
  },
  {
   "cell_type": "markdown",
   "id": "524c6274-5070-4ea8-a382-968a05ba8c35",
   "metadata": {},
   "source": [
    "Since greater education likely linearly correlates to hourly py rate, income likley correlates with education times hours worked per week, a quadratic feature."
   ]
  },
  {
   "cell_type": "code",
   "execution_count": 181,
   "id": "a9f140e5-a485-43c9-b04c-1735667257a6",
   "metadata": {},
   "outputs": [],
   "source": [
    "concat_train_test['ed_num_x_hours'] = concat_train_test['education-num'] * concat_train_test['hours-per-week']"
   ]
  },
  {
   "cell_type": "markdown",
   "id": "616590e1-a172-47cb-b054-f54a4c995ee7",
   "metadata": {},
   "source": [
    "## 1.5) Drop Features"
   ]
  },
  {
   "cell_type": "code",
   "execution_count": 182,
   "id": "167cd7e4",
   "metadata": {},
   "outputs": [],
   "source": [
    "drop_feats = ['fnlwgt', 'education',\n",
    "              'relationship', #'capital-gain','capital-loss',\n",
    "              'native-country',\n",
    "             ]\n",
    "\n",
    "concat_train_test.drop(columns=drop_feats, inplace = True)"
   ]
  },
  {
   "cell_type": "markdown",
   "id": "d1d93d9f",
   "metadata": {},
   "source": [
    "# 2) Re-Split train and test data"
   ]
  },
  {
   "cell_type": "code",
   "execution_count": 183,
   "id": "37d73618",
   "metadata": {},
   "outputs": [],
   "source": [
    "data = concat_train_test.iloc[:len(data),:] #dummied, dropped\n",
    "test_data = concat_train_test.iloc[len(data):] # dummied, dropped"
   ]
  },
  {
   "cell_type": "markdown",
   "id": "879f4ac0-9174-4c4e-9d90-08a703576a05",
   "metadata": {},
   "source": [
    "# 3) Split X & Y  (predictor & target)"
   ]
  },
  {
   "cell_type": "code",
   "execution_count": 184,
   "id": "93857052",
   "metadata": {},
   "outputs": [],
   "source": [
    "X = data.drop(columns = ['wage'])\n",
    "y = data['wage']"
   ]
  },
  {
   "cell_type": "markdown",
   "id": "f80fa9f5-04f6-4fc6-8e43-a8635a2da052",
   "metadata": {},
   "source": [
    "For the test data, there is no target data. "
   ]
  },
  {
   "cell_type": "code",
   "execution_count": 185,
   "id": "69c07e71-5263-4e63-8f48-540d5d3bdd31",
   "metadata": {},
   "outputs": [],
   "source": [
    "X_test = test_data.drop(columns = ['wage'])\n",
    "# y_test will be predicted below and assesed by judges."
   ]
  },
  {
   "cell_type": "markdown",
   "id": "872cc81f-1d4e-4767-a45c-8cf01eb2a3d9",
   "metadata": {},
   "source": [
    "## 3.1) Train-Validation split (with `train_test_split()`)"
   ]
  },
  {
   "cell_type": "code",
   "execution_count": 186,
   "id": "4d4c9cd3-77ce-4424-a876-b6c29e5c5c41",
   "metadata": {
    "tags": []
   },
   "outputs": [],
   "source": [
    "from sklearn.model_selection import train_test_split\n",
    "\n",
    "X_train,X_val,y_train,y_val = train_test_split(X,y,random_state=8,shuffle=True ,stratify=y)"
   ]
  },
  {
   "cell_type": "code",
   "execution_count": 207,
   "id": "d40e8dca-b194-4771-ab7c-aa3f1fb137f0",
   "metadata": {
    "tags": []
   },
   "outputs": [
    {
     "data": {
      "text/plain": [
       "(4884,\n",
       " 0.0    3708\n",
       " 1.0    1176\n",
       " Name: wage, dtype: int64)"
      ]
     },
     "execution_count": 207,
     "metadata": {},
     "output_type": "execute_result"
    }
   ],
   "source": [
    "len(y_train),y_train.value_counts()"
   ]
  },
  {
   "cell_type": "markdown",
   "id": "2173f7e0-1ffa-4d45-bba1-d8fef8d48afc",
   "metadata": {},
   "source": [
    "# 4) Consider Balancing Train Data via Upsampling"
   ]
  },
  {
   "cell_type": "markdown",
   "id": "72322bf6-fb96-442d-a6d2-b653bd3735e9",
   "metadata": {},
   "source": [
    "We will upsample the >50k group in the training data to deal with the fact that 76% of the data points are for the <=50k group. Note that we do not balance the data of the validation set, correcting a mistake made durring the competition. "
   ]
  },
  {
   "cell_type": "code",
   "execution_count": 187,
   "id": "17f248c1-a5da-4587-b3f9-7d4c43087c52",
   "metadata": {},
   "outputs": [
    {
     "data": {
      "text/plain": [
       "0.0    0.759214\n",
       "1.0    0.240786\n",
       "Name: wage, dtype: float64"
      ]
     },
     "execution_count": 187,
     "metadata": {},
     "output_type": "execute_result"
    }
   ],
   "source": [
    "# examine class balance\n",
    "y_train.value_counts(normalize=True) "
   ]
  },
  {
   "cell_type": "code",
   "execution_count": 188,
   "id": "dd27a928-250d-4874-ae14-7c052d54660c",
   "metadata": {},
   "outputs": [],
   "source": [
    "train_data = pd.concat([X_train,y_train], axis=1)"
   ]
  },
  {
   "cell_type": "code",
   "execution_count": 189,
   "id": "03aa67d6",
   "metadata": {},
   "outputs": [
    {
     "data": {
      "text/plain": [
       "0.0    0.5\n",
       "1.0    0.5\n",
       "Name: wage, dtype: float64"
      ]
     },
     "execution_count": 189,
     "metadata": {},
     "output_type": "execute_result"
    }
   ],
   "source": [
    "from sklearn.utils import resample\n",
    "\n",
    "# rows with wage = 0 (76%)\n",
    "under_50k = train_data[ train_data['wage'] == 0]\n",
    "\n",
    "#rows with wage =1 (24%)\n",
    "over_50k = train_data[train_data['wage'] == 1]\n",
    "\n",
    "#augment B to have the same number of rows as A\n",
    "over_50k_aug = resample(over_50k, \n",
    "                replace = True,\n",
    "                n_samples = len(under_50k),\n",
    "                 random_state = 14\n",
    "                )\n",
    "\n",
    "train_data_balanced = pd.concat([under_50k,over_50k_aug] )\n",
    "train_data_balanced['wage'].value_counts(normalize=True)"
   ]
  },
  {
   "cell_type": "code",
   "execution_count": 190,
   "id": "71d30ef1-f5d6-4ede-952b-155fb58a6734",
   "metadata": {},
   "outputs": [],
   "source": [
    "# comment out this cell to use unbalanced data\n",
    "# X_train = train_data_balanced.drop(columns = ['wage'])\n",
    "# y_train = train_data_balanced['wage']"
   ]
  },
  {
   "cell_type": "markdown",
   "id": "b6fdfce5-d9e5-4548-a99f-bde40f7af80c",
   "metadata": {},
   "source": [
    "**Post moretem:** We opt to not use the balanced train data below; the input to the `.fit()` methods below \n",
    "- are `X_train`, `y_train`, \n",
    "- are not `X_train_bal`, `y_train_bal`\n"
   ]
  },
  {
   "cell_type": "markdown",
   "id": "fa9e3d31-9fa1-4ce0-9413-808143b5ef7c",
   "metadata": {},
   "source": [
    "# 5) Model Pipes to Stack"
   ]
  },
  {
   "cell_type": "markdown",
   "id": "62a58499",
   "metadata": {},
   "source": [
    "**Plan**: Grid search for each model type, then stack.\n",
    "\n",
    "Note that we scale data in pipelines instead of before feeding scaled data to pipelines. "
   ]
  },
  {
   "cell_type": "code",
   "execution_count": 191,
   "id": "8e67c92d",
   "metadata": {},
   "outputs": [],
   "source": [
    "import time \n",
    "from sklearn.pipeline import Pipeline \n",
    "from sklearn.model_selection import GridSearchCV\n",
    "from sklearn.model_selection import cross_val_score\n",
    "from sklearn.preprocessing import StandardScaler"
   ]
  },
  {
   "cell_type": "markdown",
   "id": "c69efba9",
   "metadata": {},
   "source": [
    "### Logistic Regression"
   ]
  },
  {
   "cell_type": "code",
   "execution_count": 192,
   "id": "21d50225",
   "metadata": {},
   "outputs": [
    {
     "name": "stdout",
     "output_type": "stream",
     "text": [
      "Train score: 0.8476658476658476\n",
      "Test score: 0.8502148557397177\n",
      "CPU times: user 1.39 s, sys: 455 ms, total: 1.85 s\n",
      "Wall time: 373 ms\n"
     ]
    },
    {
     "data": {
      "text/plain": [
       "(0.8472555246069433, {'logreg__penalty': 'l2'})"
      ]
     },
     "execution_count": 192,
     "metadata": {},
     "output_type": "execute_result"
    }
   ],
   "source": [
    "%%time\n",
    "from sklearn.linear_model import LogisticRegression\n",
    "\n",
    "pipe_logreg = Pipeline([\n",
    "    ('ss',StandardScaler()),\n",
    "    ('logreg',LogisticRegression(penalty='l2' , max_iter=10**5) )\n",
    "     ])\n",
    "\n",
    "grid_logreg = {\n",
    "    'logreg__penalty': ['l2','none'],\n",
    "}\n",
    "gs_logreg = GridSearchCV(pipe_logreg, \n",
    "                         param_grid= grid_logreg,\n",
    "                        )\n",
    "\n",
    "gs_logreg.fit(X_train,y_train) # we use unbalanced data to train\n",
    "\n",
    "print(f'Train score: {gs_logreg.score(X_train,y_train)}')\n",
    "print(f'Test score: {gs_logreg.score(X_val,y_val)}')\n",
    "gs_logreg.best_score_, gs_logreg.best_params_ "
   ]
  },
  {
   "cell_type": "markdown",
   "id": "5600a18a",
   "metadata": {},
   "source": [
    "### kNN"
   ]
  },
  {
   "cell_type": "code",
   "execution_count": 193,
   "id": "ab207fb1",
   "metadata": {},
   "outputs": [
    {
     "name": "stdout",
     "output_type": "stream",
     "text": [
      "Train score: 0.8468468468468469\n",
      "Test score: 0.8354818907305095\n",
      "CPU times: user 18.4 s, sys: 5.96 s, total: 24.4 s\n",
      "Wall time: 4.34 s\n"
     ]
    },
    {
     "data": {
      "text/plain": [
       "(0.8230980586271122, {'knn__n_neighbors': 12, 'knn__weights': 'uniform'})"
      ]
     },
     "execution_count": 193,
     "metadata": {},
     "output_type": "execute_result"
    }
   ],
   "source": [
    "%%time\n",
    "from sklearn.neighbors import KNeighborsClassifier\n",
    "\n",
    "pipe_knn = Pipeline([\n",
    "    ('ss',StandardScaler()),\n",
    "    ('knn' , KNeighborsClassifier(n_neighbors=10,weights='uniform') )\n",
    "])\n",
    "\n",
    "grid_knn = {'knn__n_neighbors':[8,9,10,11,12],\n",
    "            'knn__weights': ['uniform','distance']\n",
    "           }\n",
    "\n",
    "gs_knn =GridSearchCV(pipe_knn,\n",
    "                    param_grid=grid_knn)\n",
    "\n",
    "gs_knn.fit(X_train, y_train)\n",
    "print(f'Train score: {gs_knn.score(X_train,y_train)}')\n",
    "print(f'Test score: {gs_knn.score(X_val,y_val)}')\n",
    "\n",
    "gs_knn.best_score_ , gs_knn.best_params_"
   ]
  },
  {
   "cell_type": "markdown",
   "id": "d35f9d9c",
   "metadata": {},
   "source": [
    "### Decision Tree"
   ]
  },
  {
   "cell_type": "code",
   "execution_count": 194,
   "id": "cdde9e7f",
   "metadata": {},
   "outputs": [
    {
     "name": "stdout",
     "output_type": "stream",
     "text": [
      "Train score: 0.8445945945945946\n",
      "Test score: 0.8397790055248618\n",
      "CPU times: user 1.17 s, sys: 91.1 ms, total: 1.26 s\n",
      "Wall time: 1.03 s\n"
     ]
    },
    {
     "data": {
      "text/plain": [
       "(0.8343561756464251, {'dtc__max_depth': 5, 'dtc__min_samples_split': 5})"
      ]
     },
     "execution_count": 194,
     "metadata": {},
     "output_type": "execute_result"
    }
   ],
   "source": [
    "%%time\n",
    "\n",
    "from sklearn.tree import DecisionTreeClassifier\n",
    "\n",
    "\n",
    "pipe_dtc = Pipeline([\n",
    "    ('ss',StandardScaler()),\n",
    "    ('dtc',DecisionTreeClassifier(max_depth=5,min_samples_split=5) )\n",
    "     ])\n",
    "\n",
    "grid_dtc = {\n",
    "    'dtc__max_depth': [None,1,5,10,15], \n",
    "    'dtc__min_samples_split': [5,6,7,8],\n",
    "}\n",
    "gs_dtc = GridSearchCV(pipe_dtc, \n",
    "                         param_grid= grid_dtc,\n",
    "                        )\n",
    "gs_dtc.fit(X_train,y_train)\n",
    "print(f'Train score: {gs_dtc.score(X_train,y_train)}')\n",
    "print(f'Test score: {gs_dtc.score(X_val,y_val)}')\n",
    "\n",
    "gs_dtc.best_score_, gs_dtc.best_params_\n"
   ]
  },
  {
   "cell_type": "markdown",
   "id": "f21afaf0",
   "metadata": {},
   "source": [
    "### Bagging Trees"
   ]
  },
  {
   "cell_type": "code",
   "execution_count": 195,
   "id": "1c0ef218",
   "metadata": {},
   "outputs": [
    {
     "name": "stdout",
     "output_type": "stream",
     "text": [
      "Train score: 0.9885339885339886\n",
      "Test score: 0.8520564763658687\n",
      "CPU times: user 6.56 s, sys: 38.3 ms, total: 6.6 s\n",
      "Wall time: 6.63 s\n"
     ]
    },
    {
     "data": {
      "text/plain": [
       "(0.8259635552125106, {'btc__n_estimators': 150})"
      ]
     },
     "execution_count": 195,
     "metadata": {},
     "output_type": "execute_result"
    }
   ],
   "source": [
    "%%time\n",
    "\n",
    "from sklearn.ensemble import BaggingClassifier\n",
    "\n",
    "pipe_btc = Pipeline([\n",
    "    ('ss',StandardScaler()),\n",
    "    ('btc',BaggingClassifier(n_estimators=150) )\n",
    "     ])\n",
    "\n",
    "grid_btc = {\n",
    "    'btc__n_estimators': [150],\n",
    "#     'btc__max_depth': [None,1,5,10,15], \n",
    "#     'btc__min_samples_split': [5,6,7,8],\n",
    "}\n",
    "gs_btc = GridSearchCV(pipe_btc, \n",
    "                         param_grid= grid_btc,\n",
    "                        )\n",
    "gs_btc.fit(X_train,y_train)\n",
    "print(f'Train score: {gs_btc.score(X_train,y_train)}')\n",
    "print(f'Test score: {gs_btc.score(X_val,y_val)}')\n",
    "\n",
    "gs_btc.best_score_, gs_btc.best_params_"
   ]
  },
  {
   "cell_type": "markdown",
   "id": "d37b7e90",
   "metadata": {},
   "source": [
    "### Random Forest"
   ]
  },
  {
   "cell_type": "code",
   "execution_count": 196,
   "id": "6033f7fd",
   "metadata": {},
   "outputs": [
    {
     "name": "stdout",
     "output_type": "stream",
     "text": [
      "Train score: 0.9021294021294022\n",
      "Test score: 0.8643339472068754\n",
      "CPU times: user 24.6 s, sys: 152 ms, total: 24.7 s\n",
      "Wall time: 24.8 s\n"
     ]
    },
    {
     "data": {
      "text/plain": [
       "(0.8519648640032216, {'rfc__max_depth': 12, 'rfc__n_estimators': 150})"
      ]
     },
     "execution_count": 196,
     "metadata": {},
     "output_type": "execute_result"
    }
   ],
   "source": [
    "%%time\n",
    "from sklearn.ensemble import RandomForestClassifier\n",
    "# rfc = RandomForestClassifier()\n",
    "\n",
    "pipe_rfc = Pipeline([\n",
    "    ('ss',StandardScaler()),\n",
    "    ('rfc',RandomForestClassifier(max_depth=10, n_estimators=200) )\n",
    "     ])\n",
    "\n",
    "grid_rfc = {\n",
    "    'rfc__n_estimators': [100,150,200],\n",
    "    'rfc__max_depth': [6,8,10,12,14,16],\n",
    "}\n",
    "gs_rfc = GridSearchCV(pipe_rfc, \n",
    "                         param_grid= grid_rfc,\n",
    "                        )\n",
    "gs_rfc.fit(X_train,y_train)\n",
    "print(f'Train score: {gs_rfc.score(X_train,y_train)}')\n",
    "print(f'Test score: {gs_rfc.score(X_val,y_val)}')\n",
    "\n",
    "gs_rfc.best_score_, gs_rfc.best_params_ #cvs.832 {'rfc__max_depth': 10, 'rfc__n_estimators': 200})\n"
   ]
  },
  {
   "cell_type": "markdown",
   "id": "2c2cc921",
   "metadata": {},
   "source": [
    "### AdaBoost Logreg"
   ]
  },
  {
   "cell_type": "code",
   "execution_count": 197,
   "id": "56ae2547",
   "metadata": {},
   "outputs": [
    {
     "name": "stdout",
     "output_type": "stream",
     "text": [
      "Train score: 0.8452088452088452\n",
      "Test score: 0.8453038674033149\n",
      "CPU times: user 54 s, sys: 14.7 s, total: 1min 8s\n",
      "Wall time: 10 s\n"
     ]
    },
    {
     "data": {
      "text/plain": [
       "(0.843775273923184,\n",
       " {'ada_logreg__learning_rate': 0.9, 'ada_logreg__n_estimators': 100})"
      ]
     },
     "execution_count": 197,
     "metadata": {},
     "output_type": "execute_result"
    }
   ],
   "source": [
    "%%time\n",
    "from sklearn.ensemble import AdaBoostClassifier\n",
    "ada_logreg = AdaBoostClassifier(base_estimator=LogisticRegression())\n",
    "\n",
    "pipe_ada_logreg = Pipeline([\n",
    "    ('ss',StandardScaler()),\n",
    "    ('ada_logreg', AdaBoostClassifier(base_estimator=LogisticRegression(),\n",
    "                                      learning_rate=1.1,n_estimators = 10),\n",
    "    )\n",
    "     ])\n",
    "\n",
    "grid_ada_logreg = {\n",
    "'ada_logreg__learning_rate': [0.9,1.0,1.1],\n",
    " 'ada_logreg__n_estimators': [10,50,100],\n",
    "}\n",
    "gs_ada_logreg = GridSearchCV(pipe_ada_logreg, \n",
    "                         param_grid= grid_ada_logreg,\n",
    "                        )\n",
    "gs_ada_logreg.fit(X_train,y_train)\n",
    "print(f'Train score: {gs_ada_logreg.score(X_train,y_train)}')\n",
    "print(f'Test score: {gs_ada_logreg.score(X_val,y_val)}')\n",
    "\n",
    "gs_ada_logreg.best_score_, gs_ada_logreg.best_params_ # 0.8296472557343492"
   ]
  },
  {
   "cell_type": "markdown",
   "id": "d2959537",
   "metadata": {},
   "source": [
    "### AdaBoost Decision Tree"
   ]
  },
  {
   "cell_type": "code",
   "execution_count": 198,
   "id": "53694090",
   "metadata": {},
   "outputs": [
    {
     "name": "stdout",
     "output_type": "stream",
     "text": [
      "Train score: 0.9885339885339886\n",
      "Test score: 0.8238182934315531\n",
      "CPU times: user 21 s, sys: 389 ms, total: 21.4 s\n",
      "Wall time: 20.3 s\n"
     ]
    },
    {
     "data": {
      "text/plain": [
       "(0.8165467640988642,\n",
       " {'ada_tree__learning_rate': 1.1, 'ada_tree__n_estimators': 50})"
      ]
     },
     "execution_count": 198,
     "metadata": {},
     "output_type": "execute_result"
    }
   ],
   "source": [
    "%%time\n",
    "from sklearn.ensemble import AdaBoostClassifier\n",
    "# ada_tree = AdaBoostClassifier(base_estimator=DecisionTreeClassifier())\n",
    "pipe_ada_tree = Pipeline([\n",
    "    ('ss',StandardScaler()),\n",
    "    ('ada_tree', AdaBoostClassifier(base_estimator=DecisionTreeClassifier(),learning_rate =0.9,n_estimators=100) )\n",
    "     ])\n",
    "\n",
    "grid_ada_tree = {\n",
    "'ada_tree__learning_rate': [0.9,1.0,1.1],\n",
    " 'ada_tree__n_estimators': [10,50,100],\n",
    "}\n",
    "gs_ada_tree = GridSearchCV(pipe_ada_tree, \n",
    "                         param_grid= grid_ada_tree,\n",
    "                        )\n",
    "gs_ada_tree.fit(X_train,y_train)\n",
    "print(f'Train score: {gs_ada_tree.score(X_train,y_train)}')\n",
    "print(f'Test score: {gs_ada_tree.score(X_val,y_val)}')\n",
    "\n",
    "gs_ada_tree.best_score_, gs_ada_tree.best_params_\n"
   ]
  },
  {
   "cell_type": "markdown",
   "id": "920403cb",
   "metadata": {},
   "source": [
    "# 6) Stack the best model from each model class"
   ]
  },
  {
   "cell_type": "markdown",
   "id": "3573885a-90e7-4398-8a72-03d09760561f",
   "metadata": {},
   "source": [
    "We manually input the best parameters from each gridsearched pipeline above. "
   ]
  },
  {
   "cell_type": "code",
   "execution_count": 199,
   "id": "302955a6",
   "metadata": {},
   "outputs": [],
   "source": [
    "from sklearn.ensemble import StackingClassifier"
   ]
  },
  {
   "cell_type": "code",
   "execution_count": 200,
   "id": "0b4046c4-672e-457b-8b5c-15e1ba592b49",
   "metadata": {},
   "outputs": [],
   "source": [
    "level1_models = [\n",
    "#     ('pipe_logreg', Pipeline([\n",
    "#             ('ss',StandardScaler()),\n",
    "#             ('logreg',LogisticRegression(penalty='l2' , max_iter=10**5) )])\n",
    "#             ), #end pipe_logreg\n",
    "    ('pipe_knn', Pipeline([\n",
    "        ('ss',StandardScaler()),\n",
    "        ('knn' , KNeighborsClassifier(n_neighbors=10,weights='uniform') )] )\n",
    "            ), # end pipe_knn\n",
    "    ('pipe_dtc' , Pipeline([\n",
    "        ('ss',StandardScaler()),\n",
    "        ('dtc',DecisionTreeClassifier(max_depth=5) )])\n",
    "            ), # end pipe_dtc\n",
    "    ('pipe_btc',Pipeline([\n",
    "        ('ss',StandardScaler()),\n",
    "        ('btc',BaggingClassifier(n_estimators=150) )\n",
    "         ])\n",
    "            ), #end bag\n",
    "    ('pipe_rfc', Pipeline([\n",
    "        ('ss',StandardScaler()),\n",
    "        ('rfc',RandomForestClassifier(max_depth=10, n_estimators=200) )\n",
    "         ])\n",
    "            ), # end rfc \n",
    "#     ('pipe_ada_logreg' , Pipeline([\n",
    "#         ('ss',StandardScaler()),\n",
    "#         ('ada_logreg', AdaBoostClassifier(base_estimator=LogisticRegression(),\n",
    "#                                             learning_rate=1.1, n_estimators = 10))\n",
    "#          ])\n",
    "#         ), #end adalog\n",
    "    ('pipe_ada_tree' , Pipeline([\n",
    "        ('ss',StandardScaler()),\n",
    "        ('ada_tree', AdaBoostClassifier(base_estimator=DecisionTreeClassifier(),learning_rate =0.9,n_estimators=100) )\n",
    "         ]) #end adatree\n",
    ")\n",
    "                ]\n",
    "     \n",
    "\n"
   ]
  },
  {
   "cell_type": "markdown",
   "id": "0a5da310-38f3-4660-b357-59525616dcd6",
   "metadata": {},
   "source": [
    "## 6) Fit Stack "
   ]
  },
  {
   "cell_type": "markdown",
   "id": "ac9a7567-49e8-4416-952c-a6ecb5247213",
   "metadata": {},
   "source": [
    "The following fits on augmented/balanced data, which does not provide the best results. "
   ]
  },
  {
   "cell_type": "code",
   "execution_count": 201,
   "id": "597dac63-7607-406f-b199-c1226463f8cb",
   "metadata": {},
   "outputs": [],
   "source": [
    "balanced_stack = StackingClassifier(estimators=level1_models,\n",
    "                         final_estimator=LogisticRegression())\n",
    "balanced_stack.fit(X_train_bal,y_train_bal);"
   ]
  },
  {
   "cell_type": "markdown",
   "id": "cc7212ee-fa85-40da-ae67-9a4d2d86a78e",
   "metadata": {},
   "source": [
    "## 6.2) Fit on unbalanced data"
   ]
  },
  {
   "cell_type": "code",
   "execution_count": 202,
   "id": "f9bedc9d-9965-4498-9718-25874fbcc145",
   "metadata": {},
   "outputs": [],
   "source": [
    "unbalanced_stack = StackingClassifier(estimators=level1_models,\n",
    "                         final_estimator=LogisticRegression())\n",
    "unbalanced_stack.fit(X_train,y_train);"
   ]
  },
  {
   "cell_type": "markdown",
   "id": "c54e69f9-2d8a-41ff-b76d-8e93d3a646f5",
   "metadata": {},
   "source": [
    "# 7) Predict "
   ]
  },
  {
   "cell_type": "markdown",
   "id": "be1ec793-fcfb-47a1-8fa3-7f98011f27ab",
   "metadata": {},
   "source": [
    "Create the predictions to be submitted for the competition."
   ]
  },
  {
   "cell_type": "code",
   "execution_count": 203,
   "id": "06f70be2",
   "metadata": {},
   "outputs": [],
   "source": [
    "# reminder: because it was preprocessed with train and val data\n",
    "# X_test = test_data.drop(columns=['wage']) above\n",
    "preds = unbalanced_stack.predict(X_test)\n",
    "probs = unbalanced_stack.predict_proba(X_test)"
   ]
  },
  {
   "cell_type": "code",
   "execution_count": 204,
   "id": "ebe033a7",
   "metadata": {},
   "outputs": [
    {
     "data": {
      "text/plain": [
       "(Int64Index([0, 1, 2, 3, 4], dtype='int64'),\n",
       " Int64Index([16276, 16277, 16278, 16279, 16280], dtype='int64'))"
      ]
     },
     "execution_count": 204,
     "metadata": {},
     "output_type": "execute_result"
    }
   ],
   "source": [
    "# checking index of test dataset was retained before creating a data frame \n",
    "test_data.index[:5], test_data.index[-5:]"
   ]
  },
  {
   "cell_type": "code",
   "execution_count": 205,
   "id": "23912fef-2103-470c-86e3-3208e4725998",
   "metadata": {},
   "outputs": [
    {
     "data": {
      "text/html": [
       "<div>\n",
       "<style scoped>\n",
       "    .dataframe tbody tr th:only-of-type {\n",
       "        vertical-align: middle;\n",
       "    }\n",
       "\n",
       "    .dataframe tbody tr th {\n",
       "        vertical-align: top;\n",
       "    }\n",
       "\n",
       "    .dataframe thead th {\n",
       "        text-align: right;\n",
       "    }\n",
       "</style>\n",
       "<table border=\"1\" class=\"dataframe\">\n",
       "  <thead>\n",
       "    <tr style=\"text-align: right;\">\n",
       "      <th></th>\n",
       "      <th>preds</th>\n",
       "      <th>wage</th>\n",
       "    </tr>\n",
       "  </thead>\n",
       "  <tbody>\n",
       "    <tr>\n",
       "      <th>0</th>\n",
       "      <td>0</td>\n",
       "      <td>0.968520</td>\n",
       "    </tr>\n",
       "    <tr>\n",
       "      <th>1</th>\n",
       "      <td>0</td>\n",
       "      <td>0.785319</td>\n",
       "    </tr>\n",
       "    <tr>\n",
       "      <th>2</th>\n",
       "      <td>0</td>\n",
       "      <td>0.764227</td>\n",
       "    </tr>\n",
       "    <tr>\n",
       "      <th>3</th>\n",
       "      <td>1</td>\n",
       "      <td>0.076408</td>\n",
       "    </tr>\n",
       "    <tr>\n",
       "      <th>4</th>\n",
       "      <td>0</td>\n",
       "      <td>0.968694</td>\n",
       "    </tr>\n",
       "  </tbody>\n",
       "</table>\n",
       "</div>"
      ],
      "text/plain": [
       "   preds      wage\n",
       "0      0  0.968520\n",
       "1      0  0.785319\n",
       "2      0  0.764227\n",
       "3      1  0.076408\n",
       "4      0  0.968694"
      ]
     },
     "execution_count": 205,
     "metadata": {},
     "output_type": "execute_result"
    }
   ],
   "source": [
    "submission = pd.DataFrame(\n",
    "                index = test_data.index, # index from test data\n",
    "                columns=['preds','wage'] #required column names \n",
    "                         )\n",
    "submission['preds'] = preds.astype(int)\n",
    "submission['wage'] = probs\n",
    "\n",
    "submission.head()"
   ]
  },
  {
   "cell_type": "code",
   "execution_count": 163,
   "id": "a9966ca7-223d-4126-b50c-691363c4f942",
   "metadata": {},
   "outputs": [],
   "source": [
    "submission.to_csv( index=False)"
   ]
  },
  {
   "cell_type": "markdown",
   "id": "d997509f-6406-4257-a6c7-781ae02f4cf8",
   "metadata": {
    "tags": []
   },
   "source": [
    "# 8) Metrics"
   ]
  },
  {
   "cell_type": "code",
   "execution_count": 164,
   "id": "d20192e5-5489-463b-a241-36d6bd259956",
   "metadata": {},
   "outputs": [],
   "source": [
    "preds_val = unbalanced_stack.predict(X_val)\n",
    "probs_val = unbalanced_stack.predict_proba(X_val)"
   ]
  },
  {
   "cell_type": "markdown",
   "id": "3f52cc6d-2a3a-409e-a1e1-c59e35d4b23d",
   "metadata": {
    "tags": []
   },
   "source": [
    "## F1 score"
   ]
  },
  {
   "cell_type": "markdown",
   "id": "2fff4e80-9250-4fdf-9bd6-6ce1b973c06c",
   "metadata": {},
   "source": [
    "This competition will be judge on F1 scores. Thus, we examine"
   ]
  },
  {
   "cell_type": "code",
   "execution_count": 165,
   "id": "43e5b96e-2ef8-4537-9574-3c778200360a",
   "metadata": {},
   "outputs": [
    {
     "data": {
      "text/plain": [
       "0.6468085106382978"
      ]
     },
     "execution_count": 165,
     "metadata": {},
     "output_type": "execute_result"
    }
   ],
   "source": [
    "from sklearn.metrics import f1_score\n",
    "\n",
    "f1_score(y_val,preds_val) "
   ]
  },
  {
   "cell_type": "markdown",
   "id": "9c17a8e7-546f-4ac1-a4b9-bb78101a2b43",
   "metadata": {
    "tags": []
   },
   "source": [
    "## 7.4) Accuracy, Precision, Sensitivity, Specificity, "
   ]
  },
  {
   "cell_type": "code",
   "execution_count": 166,
   "id": "5b0c7836-2ed2-4844-85b2-6923ab3c8281",
   "metadata": {},
   "outputs": [
    {
     "data": {
      "text/plain": [
       "0.8471454880294659"
      ]
     },
     "execution_count": 166,
     "metadata": {},
     "output_type": "execute_result"
    }
   ],
   "source": [
    "from sklearn.metrics import accuracy_score, recall_score, precision_score, balanced_accuracy_score # from which specificity can be computed\n",
    "accuracy_score(y_val, preds_val)\n"
   ]
  },
  {
   "cell_type": "code",
   "execution_count": 167,
   "id": "1c27da24-476c-450d-a8da-585af440bf45",
   "metadata": {},
   "outputs": [
    {
     "data": {
      "text/plain": [
       "0.7284345047923323"
      ]
     },
     "execution_count": 167,
     "metadata": {},
     "output_type": "execute_result"
    }
   ],
   "source": [
    "precision_score(y_val,preds_val)"
   ]
  },
  {
   "cell_type": "code",
   "execution_count": 168,
   "id": "800d6150-47a1-4308-89eb-84b4ffdc7614",
   "metadata": {},
   "outputs": [
    {
     "data": {
      "text/plain": [
       "0.5816326530612245"
      ]
     },
     "execution_count": 168,
     "metadata": {},
     "output_type": "execute_result"
    }
   ],
   "source": [
    "recall_score(y_val,preds_val) #aka sensitivity"
   ]
  },
  {
   "cell_type": "code",
   "execution_count": 169,
   "id": "5cb8da0c-36f0-4278-a7fe-cf1f3541c7a6",
   "metadata": {},
   "outputs": [
    {
     "data": {
      "text/plain": [
       "0.931285367825384"
      ]
     },
     "execution_count": 169,
     "metadata": {},
     "output_type": "execute_result"
    }
   ],
   "source": [
    "# specificity = 2*balanced - sensitivity\n",
    "specificity = 2*balanced_accuracy_score(y_val,preds_val) - recall_score(y_val,preds_val) \n",
    "specificity"
   ]
  },
  {
   "cell_type": "code",
   "execution_count": 170,
   "id": "c21f915e-af9a-46ee-9f0f-5202dbd5b995",
   "metadata": {
    "tags": []
   },
   "outputs": [
    {
     "data": {
      "text/plain": [
       "0.8174637261675787"
      ]
     },
     "execution_count": 170,
     "metadata": {},
     "output_type": "execute_result"
    }
   ],
   "source": [
    "# if the binary classes had been labeled differently, the f1 would have been:\n",
    "2*precision_score(y_val,preds_val)*specificity/(precision_score(y_val,preds_val)+specificity)"
   ]
  },
  {
   "cell_type": "markdown",
   "id": "41660835-18a8-4591-bd13-1108745805b9",
   "metadata": {
    "tags": []
   },
   "source": [
    "## Train set, Val set Accuracy Score"
   ]
  },
  {
   "cell_type": "code",
   "execution_count": 171,
   "id": "97cc063f-ba2a-4cf2-a89d-031f2c03a857",
   "metadata": {},
   "outputs": [
    {
     "name": "stdout",
     "output_type": "stream",
     "text": [
      "CPU times: user 2.31 s, sys: 956 ms, total: 3.26 s\n",
      "Wall time: 1.46 s\n"
     ]
    },
    {
     "data": {
      "text/plain": [
       "0.9882686084142395"
      ]
     },
     "execution_count": 171,
     "metadata": {},
     "output_type": "execute_result"
    }
   ],
   "source": [
    "%%time\n",
    "unbalanced_stack.score(X_train,y_train)"
   ]
  },
  {
   "cell_type": "code",
   "execution_count": 172,
   "id": "020e0d66-c861-4ddc-94e8-0619cb0c5045",
   "metadata": {},
   "outputs": [
    {
     "data": {
      "text/plain": [
       "0.8471454880294659"
      ]
     },
     "execution_count": 172,
     "metadata": {},
     "output_type": "execute_result"
    }
   ],
   "source": [
    "unbalanced_stack.score(X_val,y_val)"
   ]
  },
  {
   "cell_type": "markdown",
   "id": "af220c89-9702-44d8-85a9-292c0f925e91",
   "metadata": {},
   "source": [
    "## Confusion Matrix "
   ]
  },
  {
   "cell_type": "code",
   "execution_count": null,
   "id": "3447ae79-c228-4e86-9e0d-262ee6829d70",
   "metadata": {},
   "outputs": [],
   "source": [
    "from sklearn.metrics import plot_confusion_matrix "
   ]
  },
  {
   "cell_type": "code",
   "execution_count": null,
   "id": "98956fa2-bfda-4954-82cc-0d7808ada85a",
   "metadata": {},
   "outputs": [],
   "source": [
    "plot_confusion_matrix(stack, \n",
    "                      X_val,y_val, \n",
    "                      cmap='ocean', \n",
    "                      display_labels=['<= $50k','> $50k'],\n",
    "                      colorbar=False); "
   ]
  },
  {
   "cell_type": "markdown",
   "id": "b0eb5b53-d2e6-4832-b057-be75f69cee02",
   "metadata": {},
   "source": [
    "## Area under ROC"
   ]
  },
  {
   "cell_type": "code",
   "execution_count": null,
   "id": "bd2295da-c46e-4313-b98c-887f0da28d63",
   "metadata": {},
   "outputs": [],
   "source": [
    "from sklearn import metrics\n",
    "metrics.plot_roc_curve(stack, X_val,y_val)\n",
    "plt.plot([0,1],[0,1], color='r', label='Baseline')\n",
    "# add a legend\n",
    "plt.legend();"
   ]
  },
  {
   "cell_type": "code",
   "execution_count": null,
   "id": "3e3633da",
   "metadata": {},
   "outputs": [],
   "source": [
    "\n",
    "metrics.roc_auc_score(y_val,probs_val[:,1])"
   ]
  },
  {
   "cell_type": "code",
   "execution_count": null,
   "id": "90f9542a-f535-4314-adf6-d84a0add3263",
   "metadata": {},
   "outputs": [],
   "source": []
  }
 ],
 "metadata": {
  "kernelspec": {
   "display_name": "Python 3 (ipykernel)",
   "language": "python",
   "name": "python3"
  },
  "language_info": {
   "codemirror_mode": {
    "name": "ipython",
    "version": 3
   },
   "file_extension": ".py",
   "mimetype": "text/x-python",
   "name": "python",
   "nbconvert_exporter": "python",
   "pygments_lexer": "ipython3",
   "version": "3.9.7"
  }
 },
 "nbformat": 4,
 "nbformat_minor": 5
}
